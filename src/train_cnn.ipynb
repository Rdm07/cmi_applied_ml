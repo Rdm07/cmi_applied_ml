{
 "cells": [
  {
   "attachments": {},
   "cell_type": "markdown",
   "metadata": {},
   "source": [
    "# <center> Training Pre-Trained Resnet18\n",
    "## <center> To Classify Duck & Chicken Images"
   ]
  },
  {
   "attachments": {},
   "cell_type": "markdown",
   "metadata": {},
   "source": [
    "#### Importing Requisite packages"
   ]
  },
  {
   "cell_type": "code",
   "execution_count": 1,
   "metadata": {},
   "outputs": [],
   "source": [
    "import os, sys, random, time, copy\n",
    "import torch\n",
    "\n",
    "import numpy as np\n",
    "import matplotlib.pyplot as plt\n",
    "import torch.optim as optim\n",
    "import torch.nn as nn\n",
    "\n",
    "from torch.utils.data import DataLoader, Dataset\n",
    "from torchvision.models import resnet18, ResNet18_Weights\n",
    "from torchvision import transforms\n",
    "from sklearn.metrics import classification_report, accuracy_score\n",
    "from sklearn.metrics import roc_auc_score, f1_score\n",
    "from sklearn.model_selection import train_test_split\n",
    "from PIL import Image"
   ]
  },
  {
   "attachments": {},
   "cell_type": "markdown",
   "metadata": {},
   "source": [
    "#### Setting directories"
   ]
  },
  {
   "cell_type": "code",
   "execution_count": 2,
   "metadata": {},
   "outputs": [],
   "source": [
    "data_folder = \"../data/cnn_data/\"\n",
    "cl_names = os.listdir(data_folder)"
   ]
  },
  {
   "attachments": {},
   "cell_type": "markdown",
   "metadata": {},
   "source": [
    "##### Checking if Cuda is available"
   ]
  },
  {
   "cell_type": "code",
   "execution_count": 3,
   "metadata": {},
   "outputs": [
    {
     "name": "stdout",
     "output_type": "stream",
     "text": [
      "Using GPU:  True\n"
     ]
    }
   ],
   "source": [
    "use_gpu = torch.cuda.is_available()\n",
    "print('Using GPU: ', use_gpu)\n",
    "\n",
    "if use_gpu == True:\n",
    "\tdevice = torch.device(\"cuda\")\n",
    "else:\n",
    "\tdevice = torch.device(\"cpu\")"
   ]
  },
  {
   "attachments": {},
   "cell_type": "markdown",
   "metadata": {},
   "source": [
    "##### Setting the frequency of printing training stats"
   ]
  },
  {
   "cell_type": "code",
   "execution_count": 4,
   "metadata": {},
   "outputs": [],
   "source": [
    "freq_print = 25"
   ]
  },
  {
   "attachments": {},
   "cell_type": "markdown",
   "metadata": {},
   "source": [
    "##### Loading data file paths (400 each for Chicken and Duck images)"
   ]
  },
  {
   "cell_type": "code",
   "execution_count": 5,
   "metadata": {},
   "outputs": [
    {
     "data": {
      "text/plain": [
       "(480, 200, 120)"
      ]
     },
     "execution_count": 5,
     "metadata": {},
     "output_type": "execute_result"
    }
   ],
   "source": [
    "def load_paths_from_folder(data_path):\n",
    "    label_names = os.listdir(data_path)\n",
    "    labels = list(range(len(label_names)))\n",
    "    label_dict = {}\n",
    "    for label in labels:\n",
    "        label_dict[label] = label_names[label]\n",
    "\n",
    "    file_paths = []\n",
    "    for label in labels:\n",
    "        i = 0\n",
    "        for file in os.listdir(os.path.join(data_folder, label_dict[label])):\n",
    "            file_paths.append((os.path.join(data_folder, label_dict[label], file), label))\n",
    "            i += 1\n",
    "            if i == 400:\n",
    "                break\n",
    "\n",
    "    random.shuffle(file_paths)\n",
    "\n",
    "    train_num = int(0.6*len(file_paths))\n",
    "    val_num = int(0.25*len(file_paths))\n",
    "\n",
    "    train_list, val_list, test_list = file_paths[:train_num], file_paths[train_num:train_num+val_num], file_paths[train_num+val_num:]\n",
    "\n",
    "    return train_list, val_list, test_list, label_dict\n",
    "\n",
    "train_list, val_list, test_list, label_dict = load_paths_from_folder(data_folder)\n",
    "\n",
    "len(train_list), len(val_list), len(test_list)"
   ]
  },
  {
   "attachments": {},
   "cell_type": "markdown",
   "metadata": {},
   "source": [
    "##### Defining Channel Mean and Std values for Imagenet dataset"
   ]
  },
  {
   "cell_type": "code",
   "execution_count": 6,
   "metadata": {},
   "outputs": [],
   "source": [
    "mean, std = [0.485, 0.456, 0.406], [0.229, 0.224, 0.225]"
   ]
  },
  {
   "attachments": {},
   "cell_type": "markdown",
   "metadata": {},
   "source": [
    "##### Defining Data Transforms"
   ]
  },
  {
   "cell_type": "code",
   "execution_count": 7,
   "metadata": {},
   "outputs": [],
   "source": [
    "data_transforms = {\n",
    "\t'train': transforms.Compose([\n",
    "\t\ttransforms.RandomHorizontalFlip(),  # simple data augmentation\n",
    "\t\ttransforms.RandomVerticalFlip(),\t# simple data augmentation\n",
    "\t\ttransforms.ColorJitter(brightness=0.3, contrast=0.3, saturation=0.3, hue=0.1),\n",
    "\t\ttransforms.ToTensor(),\n",
    "\t\ttransforms.Normalize(mean, std)]),\n",
    "\n",
    "\t'val': transforms.Compose([\n",
    "\t\ttransforms.ToTensor(),\n",
    "\t\ttransforms.Normalize(mean, std)\n",
    "\t]),\n",
    "}"
   ]
  },
  {
   "attachments": {},
   "cell_type": "markdown",
   "metadata": {},
   "source": [
    "##### Defining a dataloader class extending the Dataset Class"
   ]
  },
  {
   "cell_type": "code",
   "execution_count": 8,
   "metadata": {},
   "outputs": [],
   "source": [
    "class dataloader(Dataset):\n",
    "\t\"\"\"\n",
    "\tDataset class to read img file from filepath \n",
    "\tand return Pillow Image object with its label_id\n",
    "\t\"\"\"\n",
    "\tdef __init__(self, list1, transform=None):\n",
    "\t\tself.list1 = list1\n",
    "\t\tself.transform = transform\n",
    "\t\n",
    "\tdef __getitem__(self, index):\n",
    "\t\tlist2 = self.list1[index]\n",
    "\t\tlab = int(list2[1])\n",
    "\t\tpng = Image.open(list2[0]).convert('RGB') # ori: RGB, do not convert to numpy, keep it as PIL image to apply transform\n",
    "\t\tpng = png.resize((224,224))\n",
    "\n",
    "\t\tif self.transform:\n",
    "\t\t\tpng = self.transform(png)\n",
    "\n",
    "\t\treturn png, lab\n",
    "\n",
    "\tdef __len__(self):\n",
    "\t\treturn len(self.list1)"
   ]
  },
  {
   "attachments": {},
   "cell_type": "markdown",
   "metadata": {},
   "source": [
    "##### Creating Dataset and DataLoader objects for all three lists"
   ]
  },
  {
   "cell_type": "code",
   "execution_count": 9,
   "metadata": {},
   "outputs": [],
   "source": [
    "batch_size = 16\n",
    "\n",
    "train_set = dataloader(train_list, transform = data_transforms['train'])\n",
    "train_loader = DataLoader(train_set, batch_size=batch_size, shuffle=True, num_workers=8, pin_memory=False)\n",
    "\n",
    "val_set = dataloader(val_list, transform = data_transforms['val'])\n",
    "val_loader = DataLoader(val_set, batch_size=batch_size, shuffle=True, num_workers=8, pin_memory=False)"
   ]
  },
  {
   "attachments": {},
   "cell_type": "markdown",
   "metadata": {},
   "source": [
    "##### Defining a function to run validation "
   ]
  },
  {
   "cell_type": "code",
   "execution_count": 10,
   "metadata": {},
   "outputs": [],
   "source": [
    "# Function to run evaluation for a model on a given dataloader object\n",
    "def run_validation(model, criterion, val_loader):\n",
    "\tmodel.eval()\n",
    "\tpred_labels = []\n",
    "\torig_labels = []\n",
    "\n",
    "\tntotal = 0\n",
    "\trunning_loss = 0.0\n",
    "\twith torch.no_grad():\n",
    "\t\tfor ix, batch in enumerate(val_loader):\n",
    "\t\t\tinputs, targets = batch\n",
    "\n",
    "\t\t\tinputs = inputs.to(torch.float).to(device)\n",
    "\t\t\ttargets = targets.to(torch.long).to(device)\n",
    "\t\t\toutput = model(inputs)\n",
    "\t\t\tif type(output) == tuple:\n",
    "\t\t\t\toutput,_ = output\n",
    "\t\t\t\n",
    "\t\t\t_, preds = torch.max(output.data, 1)\n",
    "\n",
    "\t\t\tloss = criterion(output, targets)\n",
    "\t\t\tntotal += output.size(0)\n",
    "\t\t\trunning_loss += loss.item() * output.size(0)\n",
    "\n",
    "\t\t\ttargets = torch.squeeze(targets).data.cpu().tolist()\n",
    "\t\t\torig_labels = orig_labels + targets\n",
    "\n",
    "\t\t\tpreds = torch.squeeze(preds).data.cpu().tolist()\n",
    "\t\t\tpred_labels = pred_labels + preds\n",
    "\t\n",
    "\torig_labels = np.array(orig_labels).reshape(-1,1)\n",
    "\tpred_labels = np.array(pred_labels).reshape(-1,1)\n",
    "\n",
    "\tval_loss = running_loss/ntotal\n",
    "\tval_acc = accuracy_score(orig_labels, pred_labels)\n",
    "\tval_f1 = f1_score(orig_labels, pred_labels, average='macro')\n",
    "\n",
    "\treturn val_loss, val_acc, val_f1, orig_labels, pred_labels"
   ]
  },
  {
   "attachments": {},
   "cell_type": "markdown",
   "metadata": {},
   "source": [
    "##### Defining a function to plot train-validation loss"
   ]
  },
  {
   "cell_type": "code",
   "execution_count": 11,
   "metadata": {},
   "outputs": [],
   "source": [
    "def plot_tra_val_loss(tra_val_loss):\n",
    "\tepochs = list(range(1,len(tra_val_loss)+1))\n",
    "\ttrain_loss = [x[0] for x in tra_val_loss]\n",
    "\tval_loss = [x[1] for x in tra_val_loss]\n",
    "\tplt.plot(epochs, train_loss, label='Train Loss')\n",
    "\tplt.plot(epochs, val_loss, label='Validation Loss')\n",
    "\tplt.title('Training and Validation Loss per epoch')\n",
    "\tplt.ylabel('Loss')\n",
    "\tplt.xlabel('Epochs')\n",
    "\tplt.legend()\n",
    "\tplt.show()"
   ]
  },
  {
   "attachments": {},
   "cell_type": "markdown",
   "metadata": {},
   "source": [
    "##### Defining a function to train the model"
   ]
  },
  {
   "cell_type": "code",
   "execution_count": 12,
   "metadata": {},
   "outputs": [],
   "source": [
    "def run_training(model, criterion, num_epochs, batch_size, lr, check_after, trainer = 'sgd', train_loader = train_loader, val_loader = val_loader): \n",
    "\tbest_f1 = 0\n",
    "\tbest_epoch = 0\n",
    "\ttrain_val_loss_epoch = []\n",
    "\tstart_training = time.time()\n",
    "\n",
    "\tfor epoch in range(num_epochs):\n",
    "\n",
    "\t\t### TRAINING ###\n",
    "\t\tstart = time.time()\n",
    "\n",
    "\t\tif epoch < num_epochs//6: lr = lr\n",
    "\t\telif epoch < num_epochs//3: lr = lr/2\n",
    "\t\telif epoch < num_epochs//2: lr = lr/4\n",
    "\t\telif epoch < 3*(num_epochs//4): lr = lr/10\n",
    "\t\telse: lr = lr/20\n",
    "\n",
    "\t\tif epoch > 2:\n",
    "\t\t\tfor param in model.parameters():\n",
    "\t\t\t\tparam.requires_grad = True\n",
    "\n",
    "\n",
    "\t\tif trainer == 'adam':\n",
    "\t\t\toptimizer = optim.Adam(params=filter(lambda p: p.requires_grad, model.parameters()), lr=lr)\n",
    "\t\telif trainer == 'sgd':\n",
    "\t\t\toptimizer = optim.SGD(params=filter(lambda p: p.requires_grad, model.parameters()), lr=lr, momentum=0.9, weight_decay=1e-4)\n",
    "\t\telse:\n",
    "\t\t\traise Exception('Select optimiser (trainer) as adam or sgd')\n",
    "\t\t\n",
    "\t\tprint('Epoch {}/{}'.format(epoch + 1, num_epochs))\n",
    "\t\tprint('lr: {:.6f}'.format(lr))\n",
    "\t\tprint('-' * 50)\n",
    "\n",
    "\t\tmodel.train()\n",
    "\t\tntotal = 0\n",
    "\t\trunning_loss = 0.0\n",
    "\t\trunning_corrects = 0\n",
    "\t\tfor ix, batch in enumerate(train_loader):\n",
    "\t\t\tinputs, targets = batch\n",
    "\n",
    "\t\t\tinputs = inputs.to(torch.float).to(device)\n",
    "\t\t\ttargets = targets.to(torch.long).to(device)\n",
    "\n",
    "\t\t\toptimizer.zero_grad()\n",
    "\t\t\toutput = model(inputs)\n",
    "\t\t\tif type(output) == tuple:\n",
    "\t\t\t\toutput,_ = output\n",
    "\t\t\t\n",
    "\t\t\t_, preds = torch.max(output.data, 1)\n",
    "\t\t\tloss = criterion(output, targets)\n",
    "\t\t\tloss.backward()\n",
    "\t\t\toptimizer.step()\n",
    "\n",
    "\t\t\tntotal += output.size(0)\n",
    "\t\t\trunning_loss += loss.item() * output.size(0)\n",
    "\t\t\trunning_corrects += torch.sum(preds == targets.data)\n",
    "\n",
    "\t\t\tif (ix + 1) % freq_print == 0:\n",
    "\t\t\t\tprint('| Epoch:[{}][{}/{}]\\tTrain_Loss: {:.4f}\\tAccuracy: {:.4f}\\tTime: {:.2f} mins'.format(\n",
    "\t\t\t\t\tepoch + 1, ix + 1, len(train_loader.dataset)//batch_size, running_loss/ntotal, \n",
    "\t\t\t\t\trunning_corrects.item()/ntotal, (time.time() - start)/60.0))\n",
    "\n",
    "\t\t\tsys.stdout.flush()\n",
    "\n",
    "\t\t### VALIDATION ###\n",
    "\t\tif (epoch + 1) % check_after == 0:\n",
    "\t\t\tmodel.eval()\n",
    "\t\t\tstart = time.time()\n",
    "\t\t\tval_loss, val_acc, val_f1, orig_labels, pred_labels = run_validation(model, criterion, val_loader = val_loader)\n",
    "\t\t\ttrain_val_loss_epoch.append([running_loss/ntotal, val_loss])\n",
    "\t\t\tprint(\"Epoch: {}/{}\\tVal_Loss: {:.4f}\\tAccuracy: {:.4f}\\tF1-score: {:.4f}\\t{:.3f}mins\".format(\n",
    "\t\t\t\t\t(epoch + 1), num_epochs, val_loss, val_acc, val_f1, (time.time() - start)/60.0))\n",
    "\t\t\tstart = time.time()\n",
    "\n",
    "\t\t\t# Save model if auc best auc score is acheived (yet)\n",
    "\t\t\tif val_f1 > best_f1:\n",
    "\t\t\t\tprint('Saving model')\n",
    "\t\t\t\tbest_f1 = val_f1\n",
    "\t\t\t\tbest_epoch = epoch\n",
    "\t\t\t\tbest_model = copy.deepcopy(model)\n",
    "\t\t\t\tstate = {\n",
    "\t\t\t\t\t'model': best_model,\n",
    "\t\t\t\t\t'auc': best_f1,\n",
    "\t\t\t\t\t'lr': lr,\n",
    "\t\t\t\t\t'saved_epoch': epoch,\n",
    "\t\t\t\t}\n",
    "\n",
    "\t\t\t\tsave_point = os.path.join('../models/checkpoint')\n",
    "\t\t\t\tif not os.path.isdir(os.path.join(save_point)):\n",
    "\t\t\t\t\tos.mkdir(save_point)\n",
    "\n",
    "\t\t\t\tsaved_model_name = 'resnet18'\n",
    "\t\t\t\ttorch.save(state, os.path.join(save_point, saved_model_name + '_' + str(round(best_f1,3)) + '_' + str(epoch) + '.t7'))\n",
    "\t\t\t\t\n",
    "\t\t\tprint('=======================================================================')\n",
    "\n",
    "\ttime_elapsed = time.time() - start_training\n",
    "\tprint('Training complete in {:.0f}m {:.0f}s'.format(time_elapsed // 60, time_elapsed % 60))\n",
    "\tprint('Best validation F1 score: {:4f} at epoch: {}'.format(best_f1, best_epoch))\n",
    "\n",
    "\tplot_tra_val_loss(train_val_loss_epoch)\n",
    "\treturn train_val_loss_epoch"
   ]
  },
  {
   "attachments": {},
   "cell_type": "markdown",
   "metadata": {},
   "source": [
    "##### Loading a pre-trained Resnet18 model, trained on ImageNet dataset"
   ]
  },
  {
   "cell_type": "code",
   "execution_count": 13,
   "metadata": {},
   "outputs": [
    {
     "name": "stderr",
     "output_type": "stream",
     "text": [
      "/home/rohan/anaconda3/envs/env_aml/lib/python3.9/site-packages/torchvision/models/_utils.py:135: UserWarning: Using 'weights' as positional parameter(s) is deprecated since 0.13 and may be removed in the future. Please use keyword parameter(s) instead.\n",
      "  warnings.warn(\n"
     ]
    },
    {
     "name": "stdout",
     "output_type": "stream",
     "text": [
      "ResNet(\n",
      "  (conv1): Conv2d(3, 64, kernel_size=(7, 7), stride=(2, 2), padding=(3, 3), bias=False)\n",
      "  (bn1): BatchNorm2d(64, eps=1e-05, momentum=0.1, affine=True, track_running_stats=True)\n",
      "  (relu): ReLU(inplace=True)\n",
      "  (maxpool): MaxPool2d(kernel_size=3, stride=2, padding=1, dilation=1, ceil_mode=False)\n",
      "  (layer1): Sequential(\n",
      "    (0): BasicBlock(\n",
      "      (conv1): Conv2d(64, 64, kernel_size=(3, 3), stride=(1, 1), padding=(1, 1), bias=False)\n",
      "      (bn1): BatchNorm2d(64, eps=1e-05, momentum=0.1, affine=True, track_running_stats=True)\n",
      "      (relu): ReLU(inplace=True)\n",
      "      (conv2): Conv2d(64, 64, kernel_size=(3, 3), stride=(1, 1), padding=(1, 1), bias=False)\n",
      "      (bn2): BatchNorm2d(64, eps=1e-05, momentum=0.1, affine=True, track_running_stats=True)\n",
      "    )\n",
      "    (1): BasicBlock(\n",
      "      (conv1): Conv2d(64, 64, kernel_size=(3, 3), stride=(1, 1), padding=(1, 1), bias=False)\n",
      "      (bn1): BatchNorm2d(64, eps=1e-05, momentum=0.1, affine=True, track_running_stats=True)\n",
      "      (relu): ReLU(inplace=True)\n",
      "      (conv2): Conv2d(64, 64, kernel_size=(3, 3), stride=(1, 1), padding=(1, 1), bias=False)\n",
      "      (bn2): BatchNorm2d(64, eps=1e-05, momentum=0.1, affine=True, track_running_stats=True)\n",
      "    )\n",
      "  )\n",
      "  (layer2): Sequential(\n",
      "    (0): BasicBlock(\n",
      "      (conv1): Conv2d(64, 128, kernel_size=(3, 3), stride=(2, 2), padding=(1, 1), bias=False)\n",
      "      (bn1): BatchNorm2d(128, eps=1e-05, momentum=0.1, affine=True, track_running_stats=True)\n",
      "      (relu): ReLU(inplace=True)\n",
      "      (conv2): Conv2d(128, 128, kernel_size=(3, 3), stride=(1, 1), padding=(1, 1), bias=False)\n",
      "      (bn2): BatchNorm2d(128, eps=1e-05, momentum=0.1, affine=True, track_running_stats=True)\n",
      "      (downsample): Sequential(\n",
      "        (0): Conv2d(64, 128, kernel_size=(1, 1), stride=(2, 2), bias=False)\n",
      "        (1): BatchNorm2d(128, eps=1e-05, momentum=0.1, affine=True, track_running_stats=True)\n",
      "      )\n",
      "    )\n",
      "    (1): BasicBlock(\n",
      "      (conv1): Conv2d(128, 128, kernel_size=(3, 3), stride=(1, 1), padding=(1, 1), bias=False)\n",
      "      (bn1): BatchNorm2d(128, eps=1e-05, momentum=0.1, affine=True, track_running_stats=True)\n",
      "      (relu): ReLU(inplace=True)\n",
      "      (conv2): Conv2d(128, 128, kernel_size=(3, 3), stride=(1, 1), padding=(1, 1), bias=False)\n",
      "      (bn2): BatchNorm2d(128, eps=1e-05, momentum=0.1, affine=True, track_running_stats=True)\n",
      "    )\n",
      "  )\n",
      "  (layer3): Sequential(\n",
      "    (0): BasicBlock(\n",
      "      (conv1): Conv2d(128, 256, kernel_size=(3, 3), stride=(2, 2), padding=(1, 1), bias=False)\n",
      "      (bn1): BatchNorm2d(256, eps=1e-05, momentum=0.1, affine=True, track_running_stats=True)\n",
      "      (relu): ReLU(inplace=True)\n",
      "      (conv2): Conv2d(256, 256, kernel_size=(3, 3), stride=(1, 1), padding=(1, 1), bias=False)\n",
      "      (bn2): BatchNorm2d(256, eps=1e-05, momentum=0.1, affine=True, track_running_stats=True)\n",
      "      (downsample): Sequential(\n",
      "        (0): Conv2d(128, 256, kernel_size=(1, 1), stride=(2, 2), bias=False)\n",
      "        (1): BatchNorm2d(256, eps=1e-05, momentum=0.1, affine=True, track_running_stats=True)\n",
      "      )\n",
      "    )\n",
      "    (1): BasicBlock(\n",
      "      (conv1): Conv2d(256, 256, kernel_size=(3, 3), stride=(1, 1), padding=(1, 1), bias=False)\n",
      "      (bn1): BatchNorm2d(256, eps=1e-05, momentum=0.1, affine=True, track_running_stats=True)\n",
      "      (relu): ReLU(inplace=True)\n",
      "      (conv2): Conv2d(256, 256, kernel_size=(3, 3), stride=(1, 1), padding=(1, 1), bias=False)\n",
      "      (bn2): BatchNorm2d(256, eps=1e-05, momentum=0.1, affine=True, track_running_stats=True)\n",
      "    )\n",
      "  )\n",
      "  (layer4): Sequential(\n",
      "    (0): BasicBlock(\n",
      "      (conv1): Conv2d(256, 512, kernel_size=(3, 3), stride=(2, 2), padding=(1, 1), bias=False)\n",
      "      (bn1): BatchNorm2d(512, eps=1e-05, momentum=0.1, affine=True, track_running_stats=True)\n",
      "      (relu): ReLU(inplace=True)\n",
      "      (conv2): Conv2d(512, 512, kernel_size=(3, 3), stride=(1, 1), padding=(1, 1), bias=False)\n",
      "      (bn2): BatchNorm2d(512, eps=1e-05, momentum=0.1, affine=True, track_running_stats=True)\n",
      "      (downsample): Sequential(\n",
      "        (0): Conv2d(256, 512, kernel_size=(1, 1), stride=(2, 2), bias=False)\n",
      "        (1): BatchNorm2d(512, eps=1e-05, momentum=0.1, affine=True, track_running_stats=True)\n",
      "      )\n",
      "    )\n",
      "    (1): BasicBlock(\n",
      "      (conv1): Conv2d(512, 512, kernel_size=(3, 3), stride=(1, 1), padding=(1, 1), bias=False)\n",
      "      (bn1): BatchNorm2d(512, eps=1e-05, momentum=0.1, affine=True, track_running_stats=True)\n",
      "      (relu): ReLU(inplace=True)\n",
      "      (conv2): Conv2d(512, 512, kernel_size=(3, 3), stride=(1, 1), padding=(1, 1), bias=False)\n",
      "      (bn2): BatchNorm2d(512, eps=1e-05, momentum=0.1, affine=True, track_running_stats=True)\n",
      "    )\n",
      "  )\n",
      "  (avgpool): AdaptiveAvgPool2d(output_size=(1, 1))\n",
      "  (fc): Linear(in_features=512, out_features=2, bias=True)\n",
      ")\n"
     ]
    }
   ],
   "source": [
    "model = resnet18(ResNet18_Weights.IMAGENET1K_V1)\n",
    "\n",
    "# Locking all Parameters of the pre-trained model\n",
    "for param in model.parameters():\n",
    "    param.requires_grad = False\n",
    "\n",
    "# Changing last layer of model from 1000 classes to 2 classes\n",
    "num_in = model.fc.in_features\n",
    "model.fc = nn.Linear(num_in, 2)\n",
    "\n",
    "# Newly added layer has unlocked parameters\n",
    "# The rest of the parameters will be unlocked after the 3rd epoch\n",
    "model.eval()\n",
    "model.to(device)\n",
    "\n",
    "print(model)"
   ]
  },
  {
   "attachments": {},
   "cell_type": "markdown",
   "metadata": {},
   "source": [
    "##### Training the model"
   ]
  },
  {
   "cell_type": "code",
   "execution_count": 15,
   "metadata": {},
   "outputs": [
    {
     "name": "stdout",
     "output_type": "stream",
     "text": [
      "Start training ... \n",
      "Epoch 1/15\n",
      "lr: 0.000100\n",
      "--------------------------------------------------\n",
      "| Epoch:[1][25/30]\tTrain_Loss: 0.4885\tAccuracy: 0.8225\tTime: 0.04 mins\n",
      "Epoch: 1/15\tVal_Loss: 0.3816\tAccuracy: 0.9200\tF1-score: 0.9199\t0.017mins\n",
      "Saving model\n",
      "=======================================================================\n",
      "Epoch 2/15\n",
      "lr: 0.000100\n",
      "--------------------------------------------------\n",
      "| Epoch:[2][25/30]\tTrain_Loss: 0.4394\tAccuracy: 0.8700\tTime: 0.04 mins\n",
      "Epoch: 2/15\tVal_Loss: 0.3371\tAccuracy: 0.9450\tF1-score: 0.9450\t0.018mins\n",
      "Saving model\n",
      "=======================================================================\n",
      "Epoch 3/15\n",
      "lr: 0.000050\n",
      "--------------------------------------------------\n",
      "| Epoch:[3][25/30]\tTrain_Loss: 0.4022\tAccuracy: 0.8925\tTime: 0.04 mins\n",
      "Epoch: 3/15\tVal_Loss: 0.3173\tAccuracy: 0.9450\tF1-score: 0.9450\t0.017mins\n",
      "=======================================================================\n",
      "Epoch 4/15\n",
      "lr: 0.000025\n",
      "--------------------------------------------------\n",
      "| Epoch:[4][25/30]\tTrain_Loss: 0.3911\tAccuracy: 0.8825\tTime: 0.04 mins\n",
      "Epoch: 4/15\tVal_Loss: 0.3145\tAccuracy: 0.9550\tF1-score: 0.9550\t0.017mins\n",
      "Saving model\n",
      "=======================================================================\n",
      "Epoch 5/15\n",
      "lr: 0.000013\n",
      "--------------------------------------------------\n",
      "| Epoch:[5][25/30]\tTrain_Loss: 0.3963\tAccuracy: 0.8750\tTime: 0.04 mins\n",
      "Epoch: 5/15\tVal_Loss: 0.3086\tAccuracy: 0.9500\tF1-score: 0.9500\t0.017mins\n",
      "=======================================================================\n",
      "Epoch 6/15\n",
      "lr: 0.000003\n",
      "--------------------------------------------------\n",
      "| Epoch:[6][25/30]\tTrain_Loss: 0.3772\tAccuracy: 0.9025\tTime: 0.04 mins\n",
      "Epoch: 6/15\tVal_Loss: 0.3073\tAccuracy: 0.9550\tF1-score: 0.9550\t0.017mins\n",
      "=======================================================================\n",
      "Epoch 7/15\n",
      "lr: 0.000001\n",
      "--------------------------------------------------\n",
      "| Epoch:[7][25/30]\tTrain_Loss: 0.3735\tAccuracy: 0.8975\tTime: 0.04 mins\n",
      "Epoch: 7/15\tVal_Loss: 0.3047\tAccuracy: 0.9500\tF1-score: 0.9500\t0.018mins\n",
      "=======================================================================\n",
      "Epoch 8/15\n",
      "lr: 0.000000\n",
      "--------------------------------------------------\n",
      "| Epoch:[8][25/30]\tTrain_Loss: 0.4020\tAccuracy: 0.8675\tTime: 0.04 mins\n",
      "Epoch: 8/15\tVal_Loss: 0.3067\tAccuracy: 0.9500\tF1-score: 0.9500\t0.017mins\n",
      "=======================================================================\n",
      "Epoch 9/15\n",
      "lr: 0.000000\n",
      "--------------------------------------------------\n",
      "| Epoch:[9][25/30]\tTrain_Loss: 0.3782\tAccuracy: 0.9075\tTime: 0.04 mins\n",
      "Epoch: 9/15\tVal_Loss: 0.3073\tAccuracy: 0.9500\tF1-score: 0.9500\t0.017mins\n",
      "=======================================================================\n",
      "Epoch 10/15\n",
      "lr: 0.000000\n",
      "--------------------------------------------------\n",
      "| Epoch:[10][25/30]\tTrain_Loss: 0.3836\tAccuracy: 0.8950\tTime: 0.04 mins\n",
      "Epoch: 10/15\tVal_Loss: 0.3079\tAccuracy: 0.9500\tF1-score: 0.9500\t0.017mins\n",
      "=======================================================================\n",
      "Epoch 11/15\n",
      "lr: 0.000000\n",
      "--------------------------------------------------\n",
      "| Epoch:[11][25/30]\tTrain_Loss: 0.3808\tAccuracy: 0.8825\tTime: 0.04 mins\n",
      "Epoch: 11/15\tVal_Loss: 0.3066\tAccuracy: 0.9500\tF1-score: 0.9500\t0.018mins\n",
      "=======================================================================\n",
      "Epoch 12/15\n",
      "lr: 0.000000\n",
      "--------------------------------------------------\n",
      "| Epoch:[12][25/30]\tTrain_Loss: 0.3740\tAccuracy: 0.9050\tTime: 0.04 mins\n",
      "Epoch: 12/15\tVal_Loss: 0.3086\tAccuracy: 0.9500\tF1-score: 0.9500\t0.017mins\n",
      "=======================================================================\n",
      "Epoch 13/15\n",
      "lr: 0.000000\n",
      "--------------------------------------------------\n",
      "| Epoch:[13][25/30]\tTrain_Loss: 0.4046\tAccuracy: 0.8625\tTime: 0.04 mins\n",
      "Epoch: 13/15\tVal_Loss: 0.3042\tAccuracy: 0.9550\tF1-score: 0.9550\t0.017mins\n",
      "=======================================================================\n",
      "Epoch 14/15\n",
      "lr: 0.000000\n",
      "--------------------------------------------------\n",
      "| Epoch:[14][25/30]\tTrain_Loss: 0.3824\tAccuracy: 0.8875\tTime: 0.04 mins\n",
      "Epoch: 14/15\tVal_Loss: 0.3070\tAccuracy: 0.9550\tF1-score: 0.9550\t0.017mins\n",
      "=======================================================================\n",
      "Epoch 15/15\n",
      "lr: 0.000000\n",
      "--------------------------------------------------\n",
      "| Epoch:[15][25/30]\tTrain_Loss: 0.4013\tAccuracy: 0.8650\tTime: 0.04 mins\n",
      "Epoch: 15/15\tVal_Loss: 0.3060\tAccuracy: 0.9500\tF1-score: 0.9500\t0.017mins\n",
      "=======================================================================\n",
      "Training complete in 1m 1s\n",
      "Best validation F1 score: 0.954999 at epoch: 3\n"
     ]
    },
    {
     "data": {
      "image/png": "[encoded data removed]",
      "text/plain": [
       "<Figure size 640x480 with 1 Axes>"
      ]
     },
     "metadata": {},
     "output_type": "display_data"
    }
   ],
   "source": [
    "print('Start training ... ')\n",
    "criterion = nn.CrossEntropyLoss().to(device)\n",
    "train_val_loss = run_training(model=model, criterion=criterion, num_epochs=15, batch_size=batch_size, lr=1e-4, \n",
    "             check_after=1, train_loader=train_loader, val_loader=val_loader)"
   ]
  }
 ],
 "metadata": {
  "kernelspec": {
   "display_name": "env_aml_proj",
   "language": "python",
   "name": "python3"
  },
  "language_info": {
   "codemirror_mode": {
    "name": "ipython",
    "version": 3
   },
   "file_extension": ".py",
   "mimetype": "text/x-python",
   "name": "python",
   "nbconvert_exporter": "python",
   "pygments_lexer": "ipython3",
   "version": "3.9.16"
  },
  "orig_nbformat": 4
 },
 "nbformat": 4,
 "nbformat_minor": 2
}
