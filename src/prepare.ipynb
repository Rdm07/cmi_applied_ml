{
 "cells": [
  {
   "cell_type": "code",
   "execution_count": 85,
   "metadata": {},
   "outputs": [],
   "source": [
    "# Importing common packages\n",
    "\n",
    "import os, sys, random\n",
    "import re, string, contractions\n",
    "import nltk, sklearn\n",
    "import csv\n",
    "\n",
    "from collections import Counter\n",
    "from nltk.tokenize import RegexpTokenizer, word_tokenize, sent_tokenize\n",
    "from nltk.stem import WordNetLemmatizer\n",
    "from sklearn.model_selection import train_test_split"
   ]
  },
  {
   "attachments": {},
   "cell_type": "markdown",
   "metadata": {},
   "source": [
    "### Loading data"
   ]
  },
  {
   "attachments": {},
   "cell_type": "markdown",
   "metadata": {},
   "source": [
    "Reading from the file to a single list"
   ]
  },
  {
   "cell_type": "code",
   "execution_count": 86,
   "metadata": {},
   "outputs": [],
   "source": [
    "data_file = open(\"../data/SMSSpamCollection\")\n",
    "sms_data_list = data_file.readlines()"
   ]
  },
  {
   "attachments": {},
   "cell_type": "markdown",
   "metadata": {},
   "source": [
    "Splitting the list into a list of [label, data]"
   ]
  },
  {
   "cell_type": "code",
   "execution_count": 87,
   "metadata": {},
   "outputs": [
    {
     "name": "stdout",
     "output_type": "stream",
     "text": [
      "['ham', 'Go until jurong point, crazy.. Available only in bugis n great world la e buffet... Cine there got amore wat...']\n"
     ]
    }
   ],
   "source": [
    "sms_labelled_data = [[i.split(\"\\t\")[0], i.split(\"\\t\")[1].split(\"\\n\")[0]] for i in sms_data_list]\n",
    "print(sms_labelled_data[0])"
   ]
  },
  {
   "attachments": {},
   "cell_type": "markdown",
   "metadata": {},
   "source": [
    "Defining a function to get words from the sms"
   ]
  },
  {
   "cell_type": "code",
   "execution_count": 88,
   "metadata": {},
   "outputs": [],
   "source": [
    "def get_words(sent):\n",
    "    sent = re.sub(r'^https?:\\/\\/.*[\\r\\n]*', '', sent, flags=re.MULTILINE) # Remove urls starting with http\n",
    "    sent = re.sub(r'^http?:\\/\\/.*[\\r\\n]*', '', sent, flags=re.MULTILINE) # Remove urls starting with https\n",
    "    sent = contractions.fix(sent, slang=True) # Replace contractions with words\n",
    "    sent = ''.join([i for i in sent if not i.isdigit()]) # Remove numbers\n",
    "    tokenizer = RegexpTokenizer(r'\\w+')\n",
    "    tokenized_words = tokenizer.tokenize(sent) # Remove all punctuation marks (don't have to worry about contractions)\n",
    "    return tokenized_words"
   ]
  },
  {
   "attachments": {},
   "cell_type": "markdown",
   "metadata": {},
   "source": [
    "Defining a function to return a vocabulary (with number of occurences) upon given an sms as input"
   ]
  },
  {
   "cell_type": "code",
   "execution_count": 89,
   "metadata": {},
   "outputs": [],
   "source": [
    "def get_tokenized_sms(sms):\n",
    "    words_list = get_words(sms)\n",
    "    \n",
    "    stopwords = list(nltk.corpus.stopwords.words('english'))\n",
    "    lemmatizer = WordNetLemmatizer()\n",
    "    temp_list = []\n",
    "\n",
    "    for word in words_list:\n",
    "        if len(word) > 1 and word.lower() not in stopwords:\n",
    "            word = lemmatizer.lemmatize(word.lower())\n",
    "            temp_list.append(word.lower())\n",
    "\n",
    "    return temp_list"
   ]
  },
  {
   "attachments": {},
   "cell_type": "markdown",
   "metadata": {},
   "source": [
    "Using the defined functions to convert the labelled list of sms into a labelled list of vocabularies"
   ]
  },
  {
   "cell_type": "code",
   "execution_count": 90,
   "metadata": {},
   "outputs": [
    {
     "data": {
      "text/plain": [
       "('ham',\n",
       " ['go',\n",
       "  'jurong',\n",
       "  'point',\n",
       "  'crazy',\n",
       "  'available',\n",
       "  'bugis',\n",
       "  'great',\n",
       "  'world',\n",
       "  'la',\n",
       "  'buffet',\n",
       "  'cine',\n",
       "  'got',\n",
       "  'amore',\n",
       "  'wat'])"
      ]
     },
     "execution_count": 90,
     "metadata": {},
     "output_type": "execute_result"
    }
   ],
   "source": [
    "sms_labels = []\n",
    "sms_words = []\n",
    "\n",
    "for item in sms_labelled_data:\n",
    "    word_list = get_tokenized_sms(item[1])\n",
    "\n",
    "    sms_labels.append(item[0])\n",
    "    sms_words.append(word_list)\n",
    "\n",
    "sms_labels[0], sms_words[0]"
   ]
  },
  {
   "attachments": {},
   "cell_type": "markdown",
   "metadata": {},
   "source": [
    "Defining a function to save the labels and words as a csv file"
   ]
  },
  {
   "cell_type": "code",
   "execution_count": 91,
   "metadata": {},
   "outputs": [],
   "source": [
    "def save_csv(filename, x_data, y_data):\n",
    "    combined_data = []\n",
    "    \n",
    "    for i in range(len(y_data)):\n",
    "        temp = []\n",
    "        temp.append(y_data[i])\n",
    "        temp = temp + x_data[i]\n",
    "        combined_data.append(temp)\n",
    "\n",
    "    with open(filename, 'w') as f:\n",
    "        write = csv.writer(f)\n",
    "        write.writerows(combined_data)"
   ]
  },
  {
   "attachments": {},
   "cell_type": "markdown",
   "metadata": {},
   "source": [
    "#### Combining all the above preprocessing steps into one function to save a raw_data.csv file from the given text file"
   ]
  },
  {
   "cell_type": "code",
   "execution_count": 92,
   "metadata": {},
   "outputs": [],
   "source": [
    "def get_csv_from_txt(file_path):\n",
    "    data_file = open(file_path)\n",
    "    sms_data_list = data_file.readlines()\n",
    "    sms_labelled_data = [[i.split(\"\\t\")[0], i.split(\"\\t\")[1].split(\"\\n\")[0]] for i in sms_data_list]\n",
    "\n",
    "    sms_labels = []\n",
    "    sms_words = []\n",
    "\n",
    "    for item in sms_labelled_data:\n",
    "        word_list = get_tokenized_sms(item[1])\n",
    "\n",
    "        sms_labels.append(item[0])\n",
    "        sms_words.append(word_list)\n",
    "\n",
    "    save_csv(\"../data/raw_data.csv\", sms_words, sms_labels)\n",
    "\n",
    "    return sms_labels, sms_words\n",
    "\n",
    "sms_labels, sms_words = get_csv_from_txt(\"../data/SMSSpamCollection\")"
   ]
  },
  {
   "attachments": {},
   "cell_type": "markdown",
   "metadata": {},
   "source": [
    "#### Loading the raw_data into lists"
   ]
  },
  {
   "attachments": {},
   "cell_type": "markdown",
   "metadata": {},
   "source": [
    "Defining a function to load data from csv to lists"
   ]
  },
  {
   "cell_type": "code",
   "execution_count": 93,
   "metadata": {},
   "outputs": [],
   "source": [
    "def get_list_from_csv(file_path):\n",
    "    with open(file_path, newline='') as f:\n",
    "        reader = csv.reader(f)\n",
    "        sms_words = list(reader)\n",
    "\n",
    "    sms_labels = [x[0] for x in sms_words]\n",
    "\n",
    "    for x in sms_words:\n",
    "        del x[0]\n",
    "\n",
    "    return sms_labels, sms_words"
   ]
  },
  {
   "attachments": {},
   "cell_type": "markdown",
   "metadata": {},
   "source": [
    "#### Splitting the data into train/validation/test datasets"
   ]
  },
  {
   "attachments": {},
   "cell_type": "markdown",
   "metadata": {},
   "source": [
    "Defining a function to split data into train/val/test sets and saving as csv"
   ]
  },
  {
   "cell_type": "code",
   "execution_count": 94,
   "metadata": {},
   "outputs": [],
   "source": [
    "def train_val_test_split(data_x, data_y, val_per, test_per, tr_path, val_path, te_path, random_seed):\n",
    "    x_train, x_test, y_train, y_test = train_test_split(data_x, data_y, test_size=test_per, shuffle=True, random_state=random_seed)\n",
    "\n",
    "    x_train, x_val, y_train, y_val = train_test_split(x_train, y_train, test_size=val_per/(1-test_per), shuffle=True, random_state=random_seed)\n",
    "\n",
    "    save_csv(tr_path, x_train, y_train)\n",
    "    save_csv(val_path, x_val, y_val)\n",
    "    save_csv(te_path, x_test, y_test)"
   ]
  },
  {
   "attachments": {},
   "cell_type": "markdown",
   "metadata": {},
   "source": [
    "Defining file paths for train/val/test csv files"
   ]
  },
  {
   "cell_type": "code",
   "execution_count": 95,
   "metadata": {},
   "outputs": [],
   "source": [
    "train_path = \"../data/train_data.csv\"\n",
    "val_path = \"../data/val_data.csv\"\n",
    "test_path = \"../data/test_data.csv\""
   ]
  },
  {
   "attachments": {},
   "cell_type": "markdown",
   "metadata": {},
   "source": [
    "Splitting data using random seed 42"
   ]
  },
  {
   "cell_type": "code",
   "execution_count": 96,
   "metadata": {},
   "outputs": [],
   "source": [
    "train_val_test_split(sms_words, sms_labels, 0.15, 0.15, train_path, val_path, test_path, 42)"
   ]
  },
  {
   "attachments": {},
   "cell_type": "markdown",
   "metadata": {},
   "source": [
    "#### Tracking the split csv using dvc"
   ]
  },
  {
   "attachments": {},
   "cell_type": "markdown",
   "metadata": {},
   "source": [
    "Initialising dvc"
   ]
  },
  {
   "cell_type": "code",
   "execution_count": 97,
   "metadata": {},
   "outputs": [
    {
     "name": "stdout",
     "output_type": "stream",
     "text": [
      "Initialized DVC repository.\n",
      "\n",
      "You can now commit the changes to git.\n",
      "\n",
      "\u001b[31m+---------------------------------------------------------------------+\n",
      "\u001b[0m\u001b[31m|\u001b[0m                                                                     \u001b[31m|\u001b[0m\n",
      "\u001b[31m|\u001b[0m        DVC has enabled anonymous aggregate usage analytics.         \u001b[31m|\u001b[0m\n",
      "\u001b[31m|\u001b[0m     Read the analytics documentation (and how to opt-out) here:     \u001b[31m|\u001b[0m\n",
      "\u001b[31m|\u001b[0m             <\u001b[36mhttps://dvc.org/doc/user-guide/analytics\u001b[39m>              \u001b[31m|\u001b[0m\n",
      "\u001b[31m|\u001b[0m                                                                     \u001b[31m|\u001b[0m\n",
      "\u001b[31m+---------------------------------------------------------------------+\n",
      "\u001b[0m\n",
      "\u001b[33mWhat's next?\u001b[39m\n",
      "\u001b[33m------------\u001b[39m\n",
      "- Check out the documentation: <\u001b[36mhttps://dvc.org/doc\u001b[39m>\n",
      "- Get help and share ideas: <\u001b[36mhttps://dvc.org/chat\u001b[39m>\n",
      "- Star us on GitHub: <\u001b[36mhttps://github.com/iterative/dvc\u001b[39m>\n",
      "\u001b[0m"
     ]
    }
   ],
   "source": [
    "!cd .. && dvc init"
   ]
  },
  {
   "attachments": {},
   "cell_type": "markdown",
   "metadata": {},
   "source": [
    "Add all three csv files to dvc"
   ]
  },
  {
   "cell_type": "code",
   "execution_count": 98,
   "metadata": {},
   "outputs": [
    {
     "name": "stdout",
     "output_type": "stream",
     "text": [
      "\u001b[?25l                                                                          \u001b[32m⠋\u001b[0m Checking graph\n",
      "Adding...                                                                       \n",
      "!\u001b[A\n",
      "  0% Checking cache in '/mnt/vol_d/VSCode_Workspace/cmi_applied_ml/.dvc/cache'| \u001b[A\n",
      "                                                                                \u001b[A\n",
      "!\u001b[A\n",
      "  0%|          |Transferring                          0/? [00:00<?,     ?file/s]\u001b[A\n",
      "  0%|          |Transferring                          0/1 [00:00<?,     ?file/s]\u001b[A\n",
      "100% Adding...|████████████████████████████████████████|1/1 [00:00,  7.73file/s]\u001b[A\n",
      "\n",
      "To track the changes with git, run:\n",
      "\n",
      "\tgit add ../data/train_data.csv.dvc ../data/.gitignore\n",
      "\n",
      "To enable auto staging, run:\n",
      "\n",
      "\tdvc config core.autostage true\n",
      "\u001b[2K\u001b[32m⠋\u001b[0m Checking graph                                                   \u001b[32m⠋\u001b[0m Checking graph\n",
      "Adding...                                                                       \n",
      "!\u001b[A\n",
      "  0% Checking cache in '/mnt/vol_d/VSCode_Workspace/cmi_applied_ml/.dvc/cache'| \u001b[A\n",
      "                                                                                \u001b[A\n",
      "!\u001b[A\n",
      "  0%|          |Transferring                          0/? [00:00<?,     ?file/s]\u001b[A\n",
      "  0%|          |Transferring                          0/1 [00:00<?,     ?file/s]\u001b[A\n",
      "100% Adding...|████████████████████████████████████████|1/1 [00:00, 20.56file/s]\u001b[A\n",
      "\n",
      "To track the changes with git, run:\n",
      "\n",
      "\tgit add ../data/val_data.csv.dvc ../data/.gitignore\n",
      "\n",
      "To enable auto staging, run:\n",
      "\n",
      "\tdvc config core.autostage true\n",
      "\u001b[2K\u001b[32m⠋\u001b[0m Checking graph                                                   \u001b[32m⠋\u001b[0m Checking graph\n",
      "Adding...                                                                       \n",
      "!\u001b[A\n",
      "  0% Checking cache in '/mnt/vol_d/VSCode_Workspace/cmi_applied_ml/.dvc/cache'| \u001b[A\n",
      "                                                                                \u001b[A\n",
      "!\u001b[A\n",
      "  0%|          |Transferring                          0/? [00:00<?,     ?file/s]\u001b[A\n",
      "  0%|          |Transferring                          0/1 [00:00<?,     ?file/s]\u001b[A\n",
      "100% Adding...|████████████████████████████████████████|1/1 [00:00,  9.29file/s]\u001b[A\n",
      "\n",
      "To track the changes with git, run:\n",
      "\n",
      "\tgit add ../data/.gitignore ../data/test_data.csv.dvc\n",
      "\n",
      "To enable auto staging, run:\n",
      "\n",
      "\tdvc config core.autostage true\n",
      "\u001b[0m"
     ]
    }
   ],
   "source": [
    "!dvc add ../data/train_data.csv\n",
    "!dvc add ../data/val_data.csv\n",
    "!dvc add ../data/test_data.csv"
   ]
  },
  {
   "cell_type": "code",
   "execution_count": 99,
   "metadata": {},
   "outputs": [
    {
     "name": "stdout",
     "output_type": "stream",
     "text": [
      "\u001b[0m"
     ]
    }
   ],
   "source": [
    "!dvc config core.autostage true"
   ]
  },
  {
   "attachments": {},
   "cell_type": "markdown",
   "metadata": {},
   "source": [
    "Adding google drive folder as a remote data storage"
   ]
  },
  {
   "cell_type": "code",
   "execution_count": 100,
   "metadata": {},
   "outputs": [
    {
     "name": "stdout",
     "output_type": "stream",
     "text": [
      "Setting 'myremote' as a default remote.\n",
      "\u001b[0m"
     ]
    }
   ],
   "source": [
    "!cd .. && dvc remote add --default myremote gdrive://1MypipdcBtjmYnO3OQQmLxKM3SWfwmE2p"
   ]
  },
  {
   "cell_type": "code",
   "execution_count": 101,
   "metadata": {},
   "outputs": [
    {
     "name": "stdout",
     "output_type": "stream",
     "text": [
      "\u001b[0m"
     ]
    }
   ],
   "source": [
    "!dvc remote modify myremote gdrive_acknowledge_abuse true"
   ]
  },
  {
   "attachments": {},
   "cell_type": "markdown",
   "metadata": {},
   "source": [
    "Pushing dvc tracked files to remote storage"
   ]
  },
  {
   "cell_type": "code",
   "execution_count": 102,
   "metadata": {},
   "outputs": [
    {
     "name": "stdout",
     "output_type": "stream",
     "text": [
      "  0% Transferring|                                   |0/3 [00:00<?,     ?file/s]\n",
      "!\u001b[A\n",
      "  0%|          |/mnt/vol_d/VSCode_Workspace/cmi_app0.00/? [00:00<?,        ?B/s]\u001b[A\n",
      "  0%|          |/mnt/vol_d/VSCode_Workspace/cmi_0.00/205k [00:00<?,        ?B/s]\u001b[A\n",
      " 33% Transferring|██████████▎                    |1/3 [00:03<00:07,  3.91s/file]\u001b[A\n",
      "                                                                                \u001b[A\n",
      "!\u001b[A\n",
      "  0%|          |/mnt/vol_d/VSCode_Workspace/cmi_app0.00/? [00:00<?,        ?B/s]\u001b[A\n",
      "  0%|          |/mnt/vol_d/VSCode_Workspace/cmi0.00/44.6k [00:00<?,        ?B/s]\u001b[A\n",
      "\n",
      "  0%|          |/mnt/vol_d/VSCode_Workspace/cmi_app0.00/? [00:00<?,        ?B/s]\u001b[A\u001b[A\n",
      "\n",
      "  0%|          |/mnt/vol_d/VSCode_Workspace/cmi0.00/45.8k [00:00<?,        ?B/s]\u001b[A\u001b[A\n",
      " 18%|█▊        |/mnt/vol_d/VSCode_Workspac8.00k/44.6k [00:02<00:10,    3.65kB/s]\u001b[A\n",
      "\n",
      " 67% Transferring|████████████████████▋          |2/3 [00:07<00:03,  3.81s/file]\u001b[A\u001b[A\n",
      "100% Transferring|███████████████████████████████|3/3 [00:08<00:00,  2.51s/file]\u001b[A\n",
      "\n",
      "3 files pushed                                                                  \u001b[A\u001b[A\n",
      "\u001b[0m"
     ]
    }
   ],
   "source": [
    "!dvc push"
   ]
  },
  {
   "attachments": {},
   "cell_type": "markdown",
   "metadata": {},
   "source": [
    "Splitting again using a different random seed (37)"
   ]
  },
  {
   "cell_type": "code",
   "execution_count": 103,
   "metadata": {},
   "outputs": [],
   "source": [
    "# train_val_test_split(sms_words, sms_labels, 0.15, 0.15, train_path, val_path, test_path, 37)"
   ]
  },
  {
   "attachments": {},
   "cell_type": "markdown",
   "metadata": {},
   "source": [
    "Checking out both the versions of split files"
   ]
  },
  {
   "cell_type": "code",
   "execution_count": 104,
   "metadata": {},
   "outputs": [],
   "source": [
    "# !dvc push"
   ]
  }
 ],
 "metadata": {
  "kernelspec": {
   "display_name": "env_cmi_all",
   "language": "python",
   "name": "python3"
  },
  "language_info": {
   "codemirror_mode": {
    "name": "ipython",
    "version": 3
   },
   "file_extension": ".py",
   "mimetype": "text/x-python",
   "name": "python",
   "nbconvert_exporter": "python",
   "pygments_lexer": "ipython3",
   "version": "3.9.16"
  },
  "orig_nbformat": 4,
  "vscode": {
   "interpreter": {
    "hash": "fb51b6b13e8232a64b369b5696b9d41218df7738edf9356f9fbcee5c06010241"
   }
  }
 },
 "nbformat": 4,
 "nbformat_minor": 2
}
