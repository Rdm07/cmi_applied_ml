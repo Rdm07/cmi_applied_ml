{
 "cells": [
  {
   "cell_type": "code",
   "execution_count": 1,
   "metadata": {},
   "outputs": [],
   "source": [
    "# Importing common packages\n",
    "\n",
    "import os, sys, random\n",
    "import csv, sklearn, matplotlib\n",
    "import mlflow\n",
    "import numpy as np\n",
    "import matplotlib.pyplot as plt\n",
    "\n",
    "from sklearn.feature_extraction.text import CountVectorizer, TfidfTransformer\n",
    "from sklearn.naive_bayes import MultinomialNB\n",
    "from sklearn.linear_model import LogisticRegression\n",
    "from sklearn.cluster import KMeans\n",
    "from sklearn.metrics import classification_report, accuracy_score, precision_recall_curve, auc"
   ]
  },
  {
   "attachments": {},
   "cell_type": "markdown",
   "metadata": {},
   "source": [
    "## Assignment 1"
   ]
  },
  {
   "attachments": {},
   "cell_type": "markdown",
   "metadata": {},
   "source": [
    "Loading the test, val and test datasets"
   ]
  },
  {
   "cell_type": "code",
   "execution_count": 2,
   "metadata": {},
   "outputs": [],
   "source": [
    "train_data = [i.split('\\n')[0] for i in open(\"../data/train_data.csv\").readlines()]\n",
    "val_data = [i.split('\\n')[0] for i in open(\"../data/val_data.csv\").readlines()]\n",
    "test_data = [i.split('\\n')[0] for i in open(\"../data/test_data.csv\").readlines()]"
   ]
  },
  {
   "attachments": {},
   "cell_type": "markdown",
   "metadata": {},
   "source": [
    "Separating label and list of words from the combined string"
   ]
  },
  {
   "cell_type": "code",
   "execution_count": 3,
   "metadata": {},
   "outputs": [],
   "source": [
    "def get_string_from_list_words(word_list):\n",
    "    temp = \"\"\n",
    "    for i in word_list:\n",
    "        temp = temp + i + \" \"\n",
    "\n",
    "    return temp\n",
    "\n",
    "x_train, y_train = [get_string_from_list_words(i.split(',')[1:]) for i in train_data], [i.split(',')[0] for i in train_data]\n",
    "x_val, y_val = [get_string_from_list_words(i.split(',')[1:]) for i in val_data], [i.split(',')[0] for i in val_data]\n",
    "x_test, y_test = [get_string_from_list_words(i.split(',')[1:]) for i in test_data], [i.split(',')[0] for i in test_data]"
   ]
  },
  {
   "attachments": {},
   "cell_type": "markdown",
   "metadata": {},
   "source": [
    "Converting the data to bag-of-words to be used in 3 models, viz. Multinomial Naive Bayes, Logistic Regression, Semi-supervised Clustering"
   ]
  },
  {
   "attachments": {},
   "cell_type": "markdown",
   "metadata": {},
   "source": [
    "Defining the Vectorizer"
   ]
  },
  {
   "cell_type": "code",
   "execution_count": 4,
   "metadata": {},
   "outputs": [
    {
     "data": {
      "text/html": [
       "<style>#sk-container-id-1 {color: black;background-color: white;}#sk-container-id-1 pre{padding: 0;}#sk-container-id-1 div.sk-toggleable {background-color: white;}#sk-container-id-1 label.sk-toggleable__label {cursor: pointer;display: block;width: 100%;margin-bottom: 0;padding: 0.3em;box-sizing: border-box;text-align: center;}#sk-container-id-1 label.sk-toggleable__label-arrow:before {content: \"▸\";float: left;margin-right: 0.25em;color: #696969;}#sk-container-id-1 label.sk-toggleable__label-arrow:hover:before {color: black;}#sk-container-id-1 div.sk-estimator:hover label.sk-toggleable__label-arrow:before {color: black;}#sk-container-id-1 div.sk-toggleable__content {max-height: 0;max-width: 0;overflow: hidden;text-align: left;background-color: #f0f8ff;}#sk-container-id-1 div.sk-toggleable__content pre {margin: 0.2em;color: black;border-radius: 0.25em;background-color: #f0f8ff;}#sk-container-id-1 input.sk-toggleable__control:checked~div.sk-toggleable__content {max-height: 200px;max-width: 100%;overflow: auto;}#sk-container-id-1 input.sk-toggleable__control:checked~label.sk-toggleable__label-arrow:before {content: \"▾\";}#sk-container-id-1 div.sk-estimator input.sk-toggleable__control:checked~label.sk-toggleable__label {background-color: #d4ebff;}#sk-container-id-1 div.sk-label input.sk-toggleable__control:checked~label.sk-toggleable__label {background-color: #d4ebff;}#sk-container-id-1 input.sk-hidden--visually {border: 0;clip: rect(1px 1px 1px 1px);clip: rect(1px, 1px, 1px, 1px);height: 1px;margin: -1px;overflow: hidden;padding: 0;position: absolute;width: 1px;}#sk-container-id-1 div.sk-estimator {font-family: monospace;background-color: #f0f8ff;border: 1px dotted black;border-radius: 0.25em;box-sizing: border-box;margin-bottom: 0.5em;}#sk-container-id-1 div.sk-estimator:hover {background-color: #d4ebff;}#sk-container-id-1 div.sk-parallel-item::after {content: \"\";width: 100%;border-bottom: 1px solid gray;flex-grow: 1;}#sk-container-id-1 div.sk-label:hover label.sk-toggleable__label {background-color: #d4ebff;}#sk-container-id-1 div.sk-serial::before {content: \"\";position: absolute;border-left: 1px solid gray;box-sizing: border-box;top: 0;bottom: 0;left: 50%;z-index: 0;}#sk-container-id-1 div.sk-serial {display: flex;flex-direction: column;align-items: center;background-color: white;padding-right: 0.2em;padding-left: 0.2em;position: relative;}#sk-container-id-1 div.sk-item {position: relative;z-index: 1;}#sk-container-id-1 div.sk-parallel {display: flex;align-items: stretch;justify-content: center;background-color: white;position: relative;}#sk-container-id-1 div.sk-item::before, #sk-container-id-1 div.sk-parallel-item::before {content: \"\";position: absolute;border-left: 1px solid gray;box-sizing: border-box;top: 0;bottom: 0;left: 50%;z-index: -1;}#sk-container-id-1 div.sk-parallel-item {display: flex;flex-direction: column;z-index: 1;position: relative;background-color: white;}#sk-container-id-1 div.sk-parallel-item:first-child::after {align-self: flex-end;width: 50%;}#sk-container-id-1 div.sk-parallel-item:last-child::after {align-self: flex-start;width: 50%;}#sk-container-id-1 div.sk-parallel-item:only-child::after {width: 0;}#sk-container-id-1 div.sk-dashed-wrapped {border: 1px dashed gray;margin: 0 0.4em 0.5em 0.4em;box-sizing: border-box;padding-bottom: 0.4em;background-color: white;}#sk-container-id-1 div.sk-label label {font-family: monospace;font-weight: bold;display: inline-block;line-height: 1.2em;}#sk-container-id-1 div.sk-label-container {text-align: center;}#sk-container-id-1 div.sk-container {/* jupyter's `normalize.less` sets `[hidden] { display: none; }` but bootstrap.min.css set `[hidden] { display: none !important; }` so we also need the `!important` here to be able to override the default hidden behavior on the sphinx rendered scikit-learn.org. See: https://github.com/scikit-learn/scikit-learn/issues/21755 */display: inline-block !important;position: relative;}#sk-container-id-1 div.sk-text-repr-fallback {display: none;}</style><div id=\"sk-container-id-1\" class=\"sk-top-container\"><div class=\"sk-text-repr-fallback\"><pre>CountVectorizer()</pre><b>In a Jupyter environment, please rerun this cell to show the HTML representation or trust the notebook. <br />On GitHub, the HTML representation is unable to render, please try loading this page with nbviewer.org.</b></div><div class=\"sk-container\" hidden><div class=\"sk-item\"><div class=\"sk-estimator sk-toggleable\"><input class=\"sk-toggleable__control sk-hidden--visually\" id=\"sk-estimator-id-1\" type=\"checkbox\" checked><label for=\"sk-estimator-id-1\" class=\"sk-toggleable__label sk-toggleable__label-arrow\">CountVectorizer</label><div class=\"sk-toggleable__content\"><pre>CountVectorizer()</pre></div></div></div></div></div>"
      ],
      "text/plain": [
       "CountVectorizer()"
      ]
     },
     "execution_count": 4,
     "metadata": {},
     "output_type": "execute_result"
    }
   ],
   "source": [
    "word_vec = CountVectorizer()\n",
    "word_vec.fit(x_train)"
   ]
  },
  {
   "attachments": {},
   "cell_type": "markdown",
   "metadata": {},
   "source": [
    "Creating a Bag-of-words corpus"
   ]
  },
  {
   "cell_type": "code",
   "execution_count": 5,
   "metadata": {},
   "outputs": [
    {
     "data": {
      "text/plain": [
       "(5944, (3901, 5944), (836, 5944), (837, 5944))"
      ]
     },
     "execution_count": 5,
     "metadata": {},
     "output_type": "execute_result"
    }
   ],
   "source": [
    "train_vocab = word_vec.vocabulary_\n",
    "\n",
    "x_train_vec = word_vec.transform(x_train)\n",
    "x_val_vec = word_vec.transform(x_val)\n",
    "x_test_vec = word_vec.transform(x_test)\n",
    "\n",
    "len(train_vocab), x_train_vec.shape, x_val_vec.shape, x_test_vec.shape"
   ]
  },
  {
   "attachments": {},
   "cell_type": "markdown",
   "metadata": {},
   "source": [
    "Converting Bag-of-Words corpus to tf-idf corpus"
   ]
  },
  {
   "cell_type": "code",
   "execution_count": 6,
   "metadata": {},
   "outputs": [
    {
     "data": {
      "text/plain": [
       "((3901, 5944), (836, 5944), (837, 5944))"
      ]
     },
     "execution_count": 6,
     "metadata": {},
     "output_type": "execute_result"
    }
   ],
   "source": [
    "tfidf_transformer = TfidfTransformer().fit(x_train_vec)\n",
    "\n",
    "x_train_tf = tfidf_transformer.transform(x_train_vec)\n",
    "x_val_tf = tfidf_transformer.transform(x_val_vec)\n",
    "x_test_tf = tfidf_transformer.transform(x_test_vec)\n",
    "\n",
    "x_train_tf.shape, x_val_tf.shape, x_test_tf.shape"
   ]
  },
  {
   "attachments": {},
   "cell_type": "markdown",
   "metadata": {},
   "source": [
    "Replacing labels by 0/1: Spam = 1; Ham = 0"
   ]
  },
  {
   "cell_type": "code",
   "execution_count": 7,
   "metadata": {},
   "outputs": [],
   "source": [
    "def replace_labels(list1):\n",
    "    temp_list = []\n",
    "    for el in list1:\n",
    "        if el == \"ham\":\n",
    "            temp_list.append(0)\n",
    "        else:\n",
    "            temp_list.append(1)\n",
    "\n",
    "    return temp_list\n",
    "\n",
    "y_train = replace_labels(y_train)\n",
    "y_val = replace_labels(y_val)\n",
    "y_test = replace_labels(y_test)"
   ]
  },
  {
   "attachments": {},
   "cell_type": "markdown",
   "metadata": {},
   "source": [
    "### Model 1: Multinomial Naive Bayes"
   ]
  },
  {
   "cell_type": "code",
   "execution_count": 7,
   "metadata": {},
   "outputs": [
    {
     "name": "stdout",
     "output_type": "stream",
     "text": [
      "0.25 \n",
      "               precision    recall  f1-score   support\n",
      "\n",
      "         ham       0.99      1.00      0.99       736\n",
      "        spam       0.99      0.89      0.94       100\n",
      "\n",
      "    accuracy                           0.99       836\n",
      "   macro avg       0.99      0.94      0.96       836\n",
      "weighted avg       0.99      0.99      0.99       836\n",
      "\n",
      "0.5 \n",
      "               precision    recall  f1-score   support\n",
      "\n",
      "         ham       0.98      1.00      0.99       736\n",
      "        spam       1.00      0.85      0.92       100\n",
      "\n",
      "    accuracy                           0.98       836\n",
      "   macro avg       0.99      0.93      0.95       836\n",
      "weighted avg       0.98      0.98      0.98       836\n",
      "\n",
      "0.75 \n",
      "               precision    recall  f1-score   support\n",
      "\n",
      "         ham       0.97      1.00      0.99       736\n",
      "        spam       1.00      0.80      0.89       100\n",
      "\n",
      "    accuracy                           0.98       836\n",
      "   macro avg       0.99      0.90      0.94       836\n",
      "weighted avg       0.98      0.98      0.97       836\n",
      "\n",
      "1.0 \n",
      "               precision    recall  f1-score   support\n",
      "\n",
      "         ham       0.97      1.00      0.98       736\n",
      "        spam       1.00      0.76      0.86       100\n",
      "\n",
      "    accuracy                           0.97       836\n",
      "   macro avg       0.98      0.88      0.92       836\n",
      "weighted avg       0.97      0.97      0.97       836\n",
      "\n",
      "1.25 \n",
      "               precision    recall  f1-score   support\n",
      "\n",
      "         ham       0.97      1.00      0.98       736\n",
      "        spam       1.00      0.74      0.85       100\n",
      "\n",
      "    accuracy                           0.97       836\n",
      "   macro avg       0.98      0.87      0.92       836\n",
      "weighted avg       0.97      0.97      0.97       836\n",
      "\n",
      "1.5 \n",
      "               precision    recall  f1-score   support\n",
      "\n",
      "         ham       0.96      1.00      0.98       736\n",
      "        spam       1.00      0.70      0.82       100\n",
      "\n",
      "    accuracy                           0.96       836\n",
      "   macro avg       0.98      0.85      0.90       836\n",
      "weighted avg       0.97      0.96      0.96       836\n",
      "\n",
      "1.75 \n",
      "               precision    recall  f1-score   support\n",
      "\n",
      "         ham       0.96      1.00      0.98       736\n",
      "        spam       1.00      0.67      0.80       100\n",
      "\n",
      "    accuracy                           0.96       836\n",
      "   macro avg       0.98      0.83      0.89       836\n",
      "weighted avg       0.96      0.96      0.96       836\n",
      "\n",
      "2.0 \n",
      "               precision    recall  f1-score   support\n",
      "\n",
      "         ham       0.95      1.00      0.98       736\n",
      "        spam       1.00      0.63      0.77       100\n",
      "\n",
      "    accuracy                           0.96       836\n",
      "   macro avg       0.98      0.81      0.87       836\n",
      "weighted avg       0.96      0.96      0.95       836\n",
      "\n"
     ]
    }
   ],
   "source": [
    "for i in np.arange(0.25, 2.25, 0.25):\n",
    "    multi_nb_spam_model = MultinomialNB(alpha=i).fit(x_train_tf, y_train)\n",
    "    y_pred = multi_nb_spam_model.predict(x_val_tf)\n",
    "    print(i, \"\\n\", classification_report(y_val, y_pred))"
   ]
  },
  {
   "attachments": {},
   "cell_type": "markdown",
   "metadata": {},
   "source": [
    "#### Looking at the scores for each model with different alpha values, alpha = 0.25 gives the best results. "
   ]
  },
  {
   "cell_type": "code",
   "execution_count": 8,
   "metadata": {},
   "outputs": [
    {
     "name": "stdout",
     "output_type": "stream",
     "text": [
      "              precision    recall  f1-score   support\n",
      "\n",
      "         ham       0.98      0.99      0.99       720\n",
      "        spam       0.95      0.88      0.92       117\n",
      "\n",
      "    accuracy                           0.98       837\n",
      "   macro avg       0.97      0.94      0.95       837\n",
      "weighted avg       0.98      0.98      0.98       837\n",
      "\n"
     ]
    }
   ],
   "source": [
    "multi_nb_spam_model = MultinomialNB(alpha=0.25).fit(x_train_tf, y_train)\n",
    "y_test_pred = multi_nb_spam_model.predict(x_test_tf)\n",
    "print(classification_report(y_test, y_test_pred))"
   ]
  },
  {
   "attachments": {},
   "cell_type": "markdown",
   "metadata": {},
   "source": [
    "### Model 2: Logistic Regression"
   ]
  },
  {
   "attachments": {},
   "cell_type": "markdown",
   "metadata": {},
   "source": [
    "Converting labels to 0 or 1"
   ]
  },
  {
   "cell_type": "code",
   "execution_count": 21,
   "metadata": {},
   "outputs": [
    {
     "name": "stdout",
     "output_type": "stream",
     "text": [
      "0.1 \n",
      "               precision    recall  f1-score   support\n",
      "\n",
      "         ham       0.88      1.00      0.94       736\n",
      "        spam       1.00      0.00      0.00       100\n",
      "\n",
      "    accuracy                           0.88       836\n",
      "   macro avg       0.94      0.50      0.47       836\n",
      "weighted avg       0.89      0.88      0.82       836\n",
      "\n",
      "0.5 \n",
      "               precision    recall  f1-score   support\n",
      "\n",
      "         ham       0.96      1.00      0.98       736\n",
      "        spam       0.99      0.66      0.79       100\n",
      "\n",
      "    accuracy                           0.96       836\n",
      "   macro avg       0.97      0.83      0.88       836\n",
      "weighted avg       0.96      0.96      0.95       836\n",
      "\n",
      "1 \n",
      "               precision    recall  f1-score   support\n",
      "\n",
      "         ham       0.97      1.00      0.99       736\n",
      "        spam       0.99      0.81      0.89       100\n",
      "\n",
      "    accuracy                           0.98       836\n",
      "   macro avg       0.98      0.90      0.94       836\n",
      "weighted avg       0.98      0.98      0.98       836\n",
      "\n",
      "10 \n",
      "               precision    recall  f1-score   support\n",
      "\n",
      "         ham       0.99      1.00      0.99       736\n",
      "        spam       0.99      0.93      0.96       100\n",
      "\n",
      "    accuracy                           0.99       836\n",
      "   macro avg       0.99      0.96      0.98       836\n",
      "weighted avg       0.99      0.99      0.99       836\n",
      "\n",
      "20 \n",
      "               precision    recall  f1-score   support\n",
      "\n",
      "         ham       0.99      1.00      0.99       736\n",
      "        spam       0.99      0.93      0.96       100\n",
      "\n",
      "    accuracy                           0.99       836\n",
      "   macro avg       0.99      0.96      0.98       836\n",
      "weighted avg       0.99      0.99      0.99       836\n",
      "\n",
      "50 \n",
      "               precision    recall  f1-score   support\n",
      "\n",
      "         ham       0.99      1.00      0.99       736\n",
      "        spam       0.99      0.93      0.96       100\n",
      "\n",
      "    accuracy                           0.99       836\n",
      "   macro avg       0.99      0.96      0.98       836\n",
      "weighted avg       0.99      0.99      0.99       836\n",
      "\n",
      "100 \n",
      "               precision    recall  f1-score   support\n",
      "\n",
      "         ham       0.99      1.00      0.99       736\n",
      "        spam       0.98      0.93      0.95       100\n",
      "\n",
      "    accuracy                           0.99       836\n",
      "   macro avg       0.98      0.96      0.97       836\n",
      "weighted avg       0.99      0.99      0.99       836\n",
      "\n"
     ]
    }
   ],
   "source": [
    "for i in [0.1, 0.5, 1, 10, 20, 50, 100]:\n",
    "    log_reg_model = LogisticRegression(C = i)\n",
    "    log_reg_model.fit(x_train_tf, y_train)\n",
    "    y_pred = log_reg_model.predict(x_val_tf)\n",
    "    print(i, \"\\n\", classification_report(y_val, y_pred, zero_division=1))"
   ]
  },
  {
   "attachments": {},
   "cell_type": "markdown",
   "metadata": {},
   "source": [
    "C = 10 gives the best results"
   ]
  },
  {
   "cell_type": "code",
   "execution_count": 22,
   "metadata": {},
   "outputs": [
    {
     "name": "stdout",
     "output_type": "stream",
     "text": [
      "              precision    recall  f1-score   support\n",
      "\n",
      "         ham       0.99      1.00      0.99       736\n",
      "        spam       0.98      0.93      0.95       100\n",
      "\n",
      "    accuracy                           0.99       836\n",
      "   macro avg       0.98      0.96      0.97       836\n",
      "weighted avg       0.99      0.99      0.99       836\n",
      "\n"
     ]
    }
   ],
   "source": [
    "log_reg_model = LogisticRegression(C = 10)\n",
    "log_reg_model.fit(x_train_tf, y_train)\n",
    "\n",
    "y_test_pred = log_reg_model.predict(x_test_tf)\n",
    "print(classification_report(y_val, y_pred, zero_division=1))"
   ]
  },
  {
   "attachments": {},
   "cell_type": "markdown",
   "metadata": {},
   "source": [
    "### Model 3: Semi-Supervised Clustering"
   ]
  },
  {
   "attachments": {},
   "cell_type": "markdown",
   "metadata": {},
   "source": [
    "Defining a K-Means clustering model on the training data. Using the elbow method, we will select the best number of clusters. Then, using the labels of the centroid of the clusters, we will classify the datapoints. "
   ]
  },
  {
   "cell_type": "code",
   "execution_count": 25,
   "metadata": {},
   "outputs": [
    {
     "data": {
      "image/png": "[encoded data removed]",
      "text/plain": [
       "<Figure size 640x480 with 1 Axes>"
      ]
     },
     "metadata": {},
     "output_type": "display_data"
    }
   ],
   "source": [
    "clusters_list = []\n",
    "inertia_list = []\n",
    "for i in range(25,41):\n",
    "    cluster_model = KMeans(i).fit(x_train_tf)\n",
    "    clusters_list.append(i)\n",
    "    inertia_list.append(cluster_model.inertia_)\n",
    "\n",
    "plt.plot(clusters_list, inertia_list)\n",
    "plt.show()"
   ]
  },
  {
   "attachments": {},
   "cell_type": "markdown",
   "metadata": {},
   "source": [
    "Taking number of clusters as 37, we will now fit this model and transform the data to cluster data space. Also predict the labels for validation dataset"
   ]
  },
  {
   "cell_type": "code",
   "execution_count": 45,
   "metadata": {},
   "outputs": [
    {
     "name": "stdout",
     "output_type": "stream",
     "text": [
      "              precision    recall  f1-score   support\n",
      "\n",
      "         ham       0.88      1.00      0.94       736\n",
      "        spam       1.00      0.00      0.00       100\n",
      "\n",
      "    accuracy                           0.88       836\n",
      "   macro avg       0.94      0.50      0.47       836\n",
      "weighted avg       0.89      0.88      0.82       836\n",
      "\n"
     ]
    }
   ],
   "source": [
    "cluster_model = KMeans(37).fit(x_train_tf)\n",
    "x_train_clus = cluster_model.transform(x_train_tf)\n",
    "rep_class_idx = np.argmin(x_train_clus, axis=0)\n",
    "x_rep_class = x_train_tf[rep_class_idx]\n",
    "y_rep_class = np.array(y_train)[rep_class_idx]\n",
    "\n",
    "val_clus_pred = cluster_model.predict(x_val_tf)\n",
    "y_valid_pred = []\n",
    "for i in val_clus_pred:\n",
    "    y_valid_pred.append(y_rep_class[i])\n",
    "\n",
    "print(classification_report(y_val, y_valid_pred, zero_division=1))"
   ]
  },
  {
   "attachments": {},
   "cell_type": "markdown",
   "metadata": {},
   "source": [
    "Predicting for test dataset"
   ]
  },
  {
   "cell_type": "code",
   "execution_count": 46,
   "metadata": {},
   "outputs": [
    {
     "name": "stdout",
     "output_type": "stream",
     "text": [
      "              precision    recall  f1-score   support\n",
      "\n",
      "         ham       0.86      1.00      0.92       720\n",
      "        spam       1.00      0.00      0.00       117\n",
      "\n",
      "    accuracy                           0.86       837\n",
      "   macro avg       0.93      0.50      0.46       837\n",
      "weighted avg       0.88      0.86      0.80       837\n",
      "\n"
     ]
    }
   ],
   "source": [
    "test_clus_pred = cluster_model.predict(x_test_tf)\n",
    "y_test_pred = []\n",
    "for i in test_clus_pred:\n",
    "    y_test_pred.append(y_rep_class[i])\n",
    "\n",
    "print(classification_report(y_test, y_test_pred, zero_division=1))"
   ]
  },
  {
   "attachments": {},
   "cell_type": "markdown",
   "metadata": {},
   "source": [
    "### Conclusion"
   ]
  },
  {
   "attachments": {},
   "cell_type": "markdown",
   "metadata": {},
   "source": [
    "The Logistic Regression model performed the best among all three and will be selected for further use on this dataset"
   ]
  },
  {
   "attachments": {},
   "cell_type": "markdown",
   "metadata": {},
   "source": [
    "## Assignment 2"
   ]
  },
  {
   "attachments": {},
   "cell_type": "markdown",
   "metadata": {},
   "source": [
    "### Defining bencmarking functions for all models"
   ]
  },
  {
   "attachments": {},
   "cell_type": "markdown",
   "metadata": {},
   "source": [
    "#### Model 1: Multinomial Naive Bayes"
   ]
  },
  {
   "cell_type": "code",
   "execution_count": 8,
   "metadata": {},
   "outputs": [],
   "source": [
    "def mnb_model(x_train_tf, y_train, x_val_tf, y_val, a):\n",
    "    multi_nb_spam_model = MultinomialNB(alpha = a).fit(x_train_tf, y_train)\n",
    "    y_pred = multi_nb_spam_model.predict(x_val_tf)\n",
    "    \n",
    "    acc_score = accuracy_score(y_val, y_pred)\n",
    "    \n",
    "    # Computing Precision and Recall\n",
    "    precision, recall, thresholds = precision_recall_curve(y_val, y_pred)\n",
    "    # Use AUC function to calculate the area under the curve of precision recall curve\n",
    "    aupcr = auc(recall, precision)\n",
    "\n",
    "    return [acc_score, aupcr]"
   ]
  },
  {
   "attachments": {},
   "cell_type": "markdown",
   "metadata": {},
   "source": [
    "#### Model 2: Logistic Regression"
   ]
  },
  {
   "cell_type": "code",
   "execution_count": 9,
   "metadata": {},
   "outputs": [],
   "source": [
    "def lr_model(x_train_tf, y_train, x_val_tf, y_val, c_value):\n",
    "    log_reg_model = LogisticRegression(C = c_value, max_iter=10000)\n",
    "    log_reg_model.fit(x_train_tf, y_train)\n",
    "    y_pred = log_reg_model.predict(x_val_tf)\n",
    "    \n",
    "    acc_score = accuracy_score(y_val, y_pred)\n",
    "    \n",
    "    # Computing Precision and Recall\n",
    "    precision, recall, thresholds = precision_recall_curve(y_val, y_pred)\n",
    "    # Use AUC function to calculate the area under the curve of precision recall curve\n",
    "    aupcr = auc(recall, precision)\n",
    "\n",
    "    return [acc_score, aupcr]"
   ]
  },
  {
   "attachments": {},
   "cell_type": "markdown",
   "metadata": {},
   "source": [
    "#### Model 3: Semi-Supervised Clustering"
   ]
  },
  {
   "cell_type": "code",
   "execution_count": 10,
   "metadata": {},
   "outputs": [],
   "source": [
    "def kmeans_model(x_train_tf, y_train, x_val_tf, y_val, clusters):\n",
    "    cluster_model = KMeans(clusters).fit(x_train_tf)\n",
    "    x_train_clus = cluster_model.transform(x_train_tf)\n",
    "    rep_class_idx = np.argmin(x_train_clus, axis=0)\n",
    "    x_rep_class = x_train_tf[rep_class_idx]\n",
    "    y_rep_class = np.array(y_train)[rep_class_idx]\n",
    "\n",
    "    val_clus_pred = cluster_model.predict(x_val_tf)\n",
    "    y_valid_pred = []\n",
    "    for i in val_clus_pred:\n",
    "        y_valid_pred.append(y_rep_class[i])\n",
    "    \n",
    "    acc_score = accuracy_score(y_val, y_valid_pred)\n",
    "    \n",
    "    # Computing Precision and Recall\n",
    "    precision, recall, thresholds = precision_recall_curve(y_val, y_valid_pred)\n",
    "    # Use AUC function to calculate the area under the curve of precision recall curve\n",
    "    aupcr = auc(recall, precision)\n",
    "\n",
    "    return [acc_score, aupcr]"
   ]
  },
  {
   "attachments": {},
   "cell_type": "markdown",
   "metadata": {},
   "source": [
    "### Running and Tracking Benchmarking experiments with MLFlow"
   ]
  },
  {
   "cell_type": "code",
   "execution_count": 11,
   "metadata": {},
   "outputs": [
    {
     "name": "stderr",
     "output_type": "stream",
     "text": [
      "2023/02/26 19:42:35 INFO mlflow.tracking.fluent: Experiment with name 'SMS Spam Classification Model Evaluation' does not exist. Creating a new experiment.\n"
     ]
    },
    {
     "data": {
      "text/plain": [
       "<Experiment: artifact_location='../tracking/MLFlow_Logs/mlruns/217659261940286806', creation_time=1677420755636, experiment_id='217659261940286806', last_update_time=1677420755636, lifecycle_stage='active', name='SMS Spam Classification Model Evaluation', tags={}>"
      ]
     },
     "execution_count": 11,
     "metadata": {},
     "output_type": "execute_result"
    }
   ],
   "source": [
    "client = mlflow.MlflowClient()\n",
    "#log into MLflow\n",
    "\n",
    "#Set storage directory\n",
    "mlflow.set_tracking_uri('../tracking/MLFlow_Logs/mlruns')\n",
    "\n",
    "#set experiment\n",
    "mlflow.set_experiment('SMS Spam Classification Model Evaluation')"
   ]
  },
  {
   "cell_type": "code",
   "execution_count": 12,
   "metadata": {},
   "outputs": [],
   "source": [
    "md_name = \"Multinomial Naive Bayes\" \n",
    "for i in np.arange(0.05, 2.25, 0.25):\n",
    "    with mlflow.start_run() as run: #inside brackets run_name='test'\n",
    "        #Log parameters\n",
    "        mlflow.log_param(\"Model\",md_name)\n",
    "        mlflow.log_param(\"Alpha\",i)\n",
    "        #Running the model\n",
    "        model_metrics = mnb_model(x_train_tf, y_train, x_val_tf, y_val, i)\n",
    "        #Logging metrics\n",
    "        mlflow.log_metric(\"Accuracy\", model_metrics[0])\n",
    "        mlflow.log_metric(\"AUPCR\", model_metrics[1])\n",
    "\n",
    "md_name = \"Logistic Regression\"\n",
    "for i in [0.1, 0.5, 1, 10, 20, 50, 100]:\n",
    "    with mlflow.start_run() as run: \n",
    "        #Log parameters\n",
    "        mlflow.log_param(\"Model\",md_name)\n",
    "        mlflow.log_param(\"C\",i)\n",
    "        #Running the model\n",
    "        model_metrics = lr_model(x_train_tf, y_train, x_val_tf, y_val, i)\n",
    "        #Logging metrics\n",
    "        mlflow.log_metric(\"Accuracy\", model_metrics[0])\n",
    "        mlflow.log_metric(\"AUPCR\", model_metrics[1])\n",
    "\n",
    "\n",
    "md_name = \"Semi-Supervised Clustering\"\n",
    "for i in range(25,41):\n",
    "    with mlflow.start_run() as run: \n",
    "        #Log parameters\n",
    "        mlflow.log_param(\"Model\",md_name)\n",
    "        mlflow.log_param(\"Clusters\",i)\n",
    "        #Running the model\n",
    "        model_metrics = kmeans_model(x_train_tf, y_train, x_val_tf, y_val, i)\n",
    "        #Logging metrics\n",
    "        mlflow.log_metric(\"Accuracy\", model_metrics[0])\n",
    "        mlflow.log_metric(\"AUPCR\", model_metrics[1])"
   ]
  }
 ],
 "metadata": {
  "kernelspec": {
   "display_name": "env_cmi_all",
   "language": "python",
   "name": "python3"
  },
  "language_info": {
   "codemirror_mode": {
    "name": "ipython",
    "version": 3
   },
   "file_extension": ".py",
   "mimetype": "text/x-python",
   "name": "python",
   "nbconvert_exporter": "python",
   "pygments_lexer": "ipython3",
   "version": "3.9.16"
  },
  "orig_nbformat": 4,
  "vscode": {
   "interpreter": {
    "hash": "fb51b6b13e8232a64b369b5696b9d41218df7738edf9356f9fbcee5c06010241"
   }
  }
 },
 "nbformat": 4,
 "nbformat_minor": 2
}
