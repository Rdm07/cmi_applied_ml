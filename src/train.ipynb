{
 "cells": [
  {
   "cell_type": "code",
   "execution_count": 1,
   "metadata": {},
   "outputs": [],
   "source": [
    "# Importing common packages\n",
    "\n",
    "import os, sys, random\n",
    "import csv, sklearn, matplotlib\n",
    "import mlflow, logging\n",
    "import numpy as np\n",
    "import matplotlib.pyplot as plt\n",
    "\n",
    "from sklearn.feature_extraction.text import CountVectorizer, TfidfTransformer\n",
    "from sklearn.naive_bayes import MultinomialNB\n",
    "from sklearn.linear_model import LogisticRegression\n",
    "from sklearn.cluster import KMeans\n",
    "from sklearn.metrics import classification_report, accuracy_score, precision_recall_curve, auc, confusion_matrix\n",
    "from urllib.parse import urlparse\n",
    "\n",
    "logging.basicConfig(level=logging.WARN)\n",
    "logger = logging.getLogger(__name__)"
   ]
  },
  {
   "attachments": {},
   "cell_type": "markdown",
   "metadata": {},
   "source": [
    "## Assignment 1"
   ]
  },
  {
   "attachments": {},
   "cell_type": "markdown",
   "metadata": {},
   "source": [
    "Loading the test, val and test datasets"
   ]
  },
  {
   "cell_type": "code",
   "execution_count": 2,
   "metadata": {},
   "outputs": [],
   "source": [
    "train_data = [i.split('\\n')[0] for i in open(\"../data/train_data.csv\").readlines()]\n",
    "val_data = [i.split('\\n')[0] for i in open(\"../data/val_data.csv\").readlines()]\n",
    "test_data = [i.split('\\n')[0] for i in open(\"../data/test_data.csv\").readlines()]"
   ]
  },
  {
   "attachments": {},
   "cell_type": "markdown",
   "metadata": {},
   "source": [
    "Separating label and list of words from the combined string"
   ]
  },
  {
   "cell_type": "code",
   "execution_count": 3,
   "metadata": {},
   "outputs": [],
   "source": [
    "def get_string_from_list_words(word_list):\n",
    "    temp = \"\"\n",
    "    for i in word_list:\n",
    "        temp = temp + i + \" \"\n",
    "\n",
    "    return temp\n",
    "\n",
    "x_train, y_train = [get_string_from_list_words(i.split(',')[1:]) for i in train_data], [i.split(',')[0] for i in train_data]\n",
    "x_val, y_val = [get_string_from_list_words(i.split(',')[1:]) for i in val_data], [i.split(',')[0] for i in val_data]\n",
    "x_test, y_test = [get_string_from_list_words(i.split(',')[1:]) for i in test_data], [i.split(',')[0] for i in test_data]"
   ]
  },
  {
   "attachments": {},
   "cell_type": "markdown",
   "metadata": {},
   "source": [
    "Converting the data to bag-of-words to be used in 3 models, viz. Multinomial Naive Bayes, Logistic Regression, Semi-supervised Clustering"
   ]
  },
  {
   "attachments": {},
   "cell_type": "markdown",
   "metadata": {},
   "source": [
    "Defining the Vectorizer"
   ]
  },
  {
   "cell_type": "code",
   "execution_count": 4,
   "metadata": {},
   "outputs": [
    {
     "data": {
      "text/html": [
       "<style>#sk-container-id-1 {color: black;background-color: white;}#sk-container-id-1 pre{padding: 0;}#sk-container-id-1 div.sk-toggleable {background-color: white;}#sk-container-id-1 label.sk-toggleable__label {cursor: pointer;display: block;width: 100%;margin-bottom: 0;padding: 0.3em;box-sizing: border-box;text-align: center;}#sk-container-id-1 label.sk-toggleable__label-arrow:before {content: \"▸\";float: left;margin-right: 0.25em;color: #696969;}#sk-container-id-1 label.sk-toggleable__label-arrow:hover:before {color: black;}#sk-container-id-1 div.sk-estimator:hover label.sk-toggleable__label-arrow:before {color: black;}#sk-container-id-1 div.sk-toggleable__content {max-height: 0;max-width: 0;overflow: hidden;text-align: left;background-color: #f0f8ff;}#sk-container-id-1 div.sk-toggleable__content pre {margin: 0.2em;color: black;border-radius: 0.25em;background-color: #f0f8ff;}#sk-container-id-1 input.sk-toggleable__control:checked~div.sk-toggleable__content {max-height: 200px;max-width: 100%;overflow: auto;}#sk-container-id-1 input.sk-toggleable__control:checked~label.sk-toggleable__label-arrow:before {content: \"▾\";}#sk-container-id-1 div.sk-estimator input.sk-toggleable__control:checked~label.sk-toggleable__label {background-color: #d4ebff;}#sk-container-id-1 div.sk-label input.sk-toggleable__control:checked~label.sk-toggleable__label {background-color: #d4ebff;}#sk-container-id-1 input.sk-hidden--visually {border: 0;clip: rect(1px 1px 1px 1px);clip: rect(1px, 1px, 1px, 1px);height: 1px;margin: -1px;overflow: hidden;padding: 0;position: absolute;width: 1px;}#sk-container-id-1 div.sk-estimator {font-family: monospace;background-color: #f0f8ff;border: 1px dotted black;border-radius: 0.25em;box-sizing: border-box;margin-bottom: 0.5em;}#sk-container-id-1 div.sk-estimator:hover {background-color: #d4ebff;}#sk-container-id-1 div.sk-parallel-item::after {content: \"\";width: 100%;border-bottom: 1px solid gray;flex-grow: 1;}#sk-container-id-1 div.sk-label:hover label.sk-toggleable__label {background-color: #d4ebff;}#sk-container-id-1 div.sk-serial::before {content: \"\";position: absolute;border-left: 1px solid gray;box-sizing: border-box;top: 0;bottom: 0;left: 50%;z-index: 0;}#sk-container-id-1 div.sk-serial {display: flex;flex-direction: column;align-items: center;background-color: white;padding-right: 0.2em;padding-left: 0.2em;position: relative;}#sk-container-id-1 div.sk-item {position: relative;z-index: 1;}#sk-container-id-1 div.sk-parallel {display: flex;align-items: stretch;justify-content: center;background-color: white;position: relative;}#sk-container-id-1 div.sk-item::before, #sk-container-id-1 div.sk-parallel-item::before {content: \"\";position: absolute;border-left: 1px solid gray;box-sizing: border-box;top: 0;bottom: 0;left: 50%;z-index: -1;}#sk-container-id-1 div.sk-parallel-item {display: flex;flex-direction: column;z-index: 1;position: relative;background-color: white;}#sk-container-id-1 div.sk-parallel-item:first-child::after {align-self: flex-end;width: 50%;}#sk-container-id-1 div.sk-parallel-item:last-child::after {align-self: flex-start;width: 50%;}#sk-container-id-1 div.sk-parallel-item:only-child::after {width: 0;}#sk-container-id-1 div.sk-dashed-wrapped {border: 1px dashed gray;margin: 0 0.4em 0.5em 0.4em;box-sizing: border-box;padding-bottom: 0.4em;background-color: white;}#sk-container-id-1 div.sk-label label {font-family: monospace;font-weight: bold;display: inline-block;line-height: 1.2em;}#sk-container-id-1 div.sk-label-container {text-align: center;}#sk-container-id-1 div.sk-container {/* jupyter's `normalize.less` sets `[hidden] { display: none; }` but bootstrap.min.css set `[hidden] { display: none !important; }` so we also need the `!important` here to be able to override the default hidden behavior on the sphinx rendered scikit-learn.org. See: https://github.com/scikit-learn/scikit-learn/issues/21755 */display: inline-block !important;position: relative;}#sk-container-id-1 div.sk-text-repr-fallback {display: none;}</style><div id=\"sk-container-id-1\" class=\"sk-top-container\"><div class=\"sk-text-repr-fallback\"><pre>CountVectorizer()</pre><b>In a Jupyter environment, please rerun this cell to show the HTML representation or trust the notebook. <br />On GitHub, the HTML representation is unable to render, please try loading this page with nbviewer.org.</b></div><div class=\"sk-container\" hidden><div class=\"sk-item\"><div class=\"sk-estimator sk-toggleable\"><input class=\"sk-toggleable__control sk-hidden--visually\" id=\"sk-estimator-id-1\" type=\"checkbox\" checked><label for=\"sk-estimator-id-1\" class=\"sk-toggleable__label sk-toggleable__label-arrow\">CountVectorizer</label><div class=\"sk-toggleable__content\"><pre>CountVectorizer()</pre></div></div></div></div></div>"
      ],
      "text/plain": [
       "CountVectorizer()"
      ]
     },
     "execution_count": 4,
     "metadata": {},
     "output_type": "execute_result"
    }
   ],
   "source": [
    "word_vec = CountVectorizer()\n",
    "word_vec.fit(x_train)"
   ]
  },
  {
   "attachments": {},
   "cell_type": "markdown",
   "metadata": {},
   "source": [
    "Creating a Bag-of-words corpus"
   ]
  },
  {
   "cell_type": "code",
   "execution_count": 5,
   "metadata": {},
   "outputs": [
    {
     "data": {
      "text/plain": [
       "(5944, (3901, 5944), (836, 5944), (837, 5944))"
      ]
     },
     "execution_count": 5,
     "metadata": {},
     "output_type": "execute_result"
    }
   ],
   "source": [
    "train_vocab = word_vec.vocabulary_\n",
    "\n",
    "x_train_vec = word_vec.transform(x_train)\n",
    "x_val_vec = word_vec.transform(x_val)\n",
    "x_test_vec = word_vec.transform(x_test)\n",
    "\n",
    "len(train_vocab), x_train_vec.shape, x_val_vec.shape, x_test_vec.shape"
   ]
  },
  {
   "attachments": {},
   "cell_type": "markdown",
   "metadata": {},
   "source": [
    "Converting Bag-of-Words corpus to tf-idf corpus"
   ]
  },
  {
   "cell_type": "code",
   "execution_count": 6,
   "metadata": {},
   "outputs": [
    {
     "data": {
      "text/plain": [
       "((3901, 5944), (836, 5944), (837, 5944))"
      ]
     },
     "execution_count": 6,
     "metadata": {},
     "output_type": "execute_result"
    }
   ],
   "source": [
    "tfidf_transformer = TfidfTransformer().fit(x_train_vec)\n",
    "\n",
    "x_train_tf = tfidf_transformer.transform(x_train_vec)\n",
    "x_val_tf = tfidf_transformer.transform(x_val_vec)\n",
    "x_test_tf = tfidf_transformer.transform(x_test_vec)\n",
    "\n",
    "x_train_tf.shape, x_val_tf.shape, x_test_tf.shape"
   ]
  },
  {
   "attachments": {},
   "cell_type": "markdown",
   "metadata": {},
   "source": [
    "Replacing labels by 0/1: Spam = 1; Ham = 0"
   ]
  },
  {
   "cell_type": "code",
   "execution_count": 7,
   "metadata": {},
   "outputs": [],
   "source": [
    "def replace_labels(list1):\n",
    "    temp_list = []\n",
    "    for el in list1:\n",
    "        if el == \"ham\":\n",
    "            temp_list.append(0)\n",
    "        else:\n",
    "            temp_list.append(1)\n",
    "\n",
    "    return temp_list\n",
    "\n",
    "y_train = replace_labels(y_train)\n",
    "y_val = replace_labels(y_val)\n",
    "y_test = replace_labels(y_test)"
   ]
  },
  {
   "attachments": {},
   "cell_type": "markdown",
   "metadata": {},
   "source": [
    "### Model 1: Multinomial Naive Bayes"
   ]
  },
  {
   "cell_type": "code",
   "execution_count": 8,
   "metadata": {},
   "outputs": [
    {
     "name": "stdout",
     "output_type": "stream",
     "text": [
      "0.25 \n",
      "               precision    recall  f1-score   support\n",
      "\n",
      "           0       0.99      1.00      0.99       719\n",
      "           1       0.98      0.91      0.95       117\n",
      "\n",
      "    accuracy                           0.99       836\n",
      "   macro avg       0.98      0.96      0.97       836\n",
      "weighted avg       0.99      0.99      0.99       836\n",
      "\n",
      "0.5 \n",
      "               precision    recall  f1-score   support\n",
      "\n",
      "           0       0.98      1.00      0.99       719\n",
      "           1       0.99      0.87      0.93       117\n",
      "\n",
      "    accuracy                           0.98       836\n",
      "   macro avg       0.98      0.94      0.96       836\n",
      "weighted avg       0.98      0.98      0.98       836\n",
      "\n",
      "0.75 \n",
      "               precision    recall  f1-score   support\n",
      "\n",
      "           0       0.97      1.00      0.99       719\n",
      "           1       1.00      0.83      0.91       117\n",
      "\n",
      "    accuracy                           0.98       836\n",
      "   macro avg       0.99      0.91      0.95       836\n",
      "weighted avg       0.98      0.98      0.98       836\n",
      "\n",
      "1.0 \n",
      "               precision    recall  f1-score   support\n",
      "\n",
      "           0       0.97      1.00      0.98       719\n",
      "           1       1.00      0.81      0.90       117\n",
      "\n",
      "    accuracy                           0.97       836\n",
      "   macro avg       0.99      0.91      0.94       836\n",
      "weighted avg       0.97      0.97      0.97       836\n",
      "\n",
      "1.25 \n",
      "               precision    recall  f1-score   support\n",
      "\n",
      "           0       0.96      1.00      0.98       719\n",
      "           1       1.00      0.74      0.85       117\n",
      "\n",
      "    accuracy                           0.96       836\n",
      "   macro avg       0.98      0.87      0.91       836\n",
      "weighted avg       0.96      0.96      0.96       836\n",
      "\n",
      "1.5 \n",
      "               precision    recall  f1-score   support\n",
      "\n",
      "           0       0.96      1.00      0.98       719\n",
      "           1       1.00      0.74      0.85       117\n",
      "\n",
      "    accuracy                           0.96       836\n",
      "   macro avg       0.98      0.87      0.91       836\n",
      "weighted avg       0.96      0.96      0.96       836\n",
      "\n",
      "1.75 \n",
      "               precision    recall  f1-score   support\n",
      "\n",
      "           0       0.95      1.00      0.98       719\n",
      "           1       1.00      0.69      0.82       117\n",
      "\n",
      "    accuracy                           0.96       836\n",
      "   macro avg       0.98      0.85      0.90       836\n",
      "weighted avg       0.96      0.96      0.95       836\n",
      "\n",
      "2.0 \n",
      "               precision    recall  f1-score   support\n",
      "\n",
      "           0       0.95      1.00      0.97       719\n",
      "           1       1.00      0.68      0.81       117\n",
      "\n",
      "    accuracy                           0.95       836\n",
      "   macro avg       0.97      0.84      0.89       836\n",
      "weighted avg       0.96      0.95      0.95       836\n",
      "\n"
     ]
    }
   ],
   "source": [
    "for i in np.arange(0.25, 2.25, 0.25):\n",
    "    multi_nb_spam_model = MultinomialNB(alpha=i).fit(x_train_tf, y_train)\n",
    "    y_pred = multi_nb_spam_model.predict(x_val_tf)\n",
    "    print(i, \"\\n\", classification_report(y_val, y_pred))"
   ]
  },
  {
   "attachments": {},
   "cell_type": "markdown",
   "metadata": {},
   "source": [
    "#### Looking at the scores for each model with different alpha values, alpha = 0.25 gives the best results. "
   ]
  },
  {
   "cell_type": "code",
   "execution_count": 9,
   "metadata": {},
   "outputs": [
    {
     "name": "stdout",
     "output_type": "stream",
     "text": [
      "              precision    recall  f1-score   support\n",
      "\n",
      "           0       0.97      0.99      0.98       714\n",
      "           1       0.96      0.85      0.90       123\n",
      "\n",
      "    accuracy                           0.97       837\n",
      "   macro avg       0.97      0.92      0.94       837\n",
      "weighted avg       0.97      0.97      0.97       837\n",
      "\n"
     ]
    }
   ],
   "source": [
    "multi_nb_spam_model = MultinomialNB(alpha=0.25).fit(x_train_tf, y_train)\n",
    "y_test_pred = multi_nb_spam_model.predict(x_test_tf)\n",
    "print(classification_report(y_test, y_test_pred))"
   ]
  },
  {
   "attachments": {},
   "cell_type": "markdown",
   "metadata": {},
   "source": [
    "### Model 2: Logistic Regression"
   ]
  },
  {
   "attachments": {},
   "cell_type": "markdown",
   "metadata": {},
   "source": [
    "Converting labels to 0 or 1"
   ]
  },
  {
   "cell_type": "code",
   "execution_count": 10,
   "metadata": {},
   "outputs": [
    {
     "name": "stdout",
     "output_type": "stream",
     "text": [
      "0.1 \n",
      "               precision    recall  f1-score   support\n",
      "\n",
      "           0       0.86      1.00      0.92       719\n",
      "           1       0.00      0.00      0.00       117\n",
      "\n",
      "    accuracy                           0.86       836\n",
      "   macro avg       0.43      0.50      0.46       836\n",
      "weighted avg       0.74      0.86      0.79       836\n",
      "\n",
      "0.5 \n",
      "               precision    recall  f1-score   support\n",
      "\n",
      "           0       0.93      1.00      0.96       719\n",
      "           1       0.98      0.52      0.68       117\n",
      "\n",
      "    accuracy                           0.93       836\n",
      "   macro avg       0.96      0.76      0.82       836\n",
      "weighted avg       0.94      0.93      0.92       836\n",
      "\n",
      "1 \n",
      "               precision    recall  f1-score   support\n",
      "\n",
      "           0       0.96      1.00      0.98       719\n",
      "           1       0.99      0.75      0.85       117\n",
      "\n",
      "    accuracy                           0.96       836\n",
      "   macro avg       0.97      0.88      0.92       836\n",
      "weighted avg       0.97      0.96      0.96       836\n",
      "\n",
      "10 \n",
      "               precision    recall  f1-score   support\n",
      "\n",
      "           0       0.98      1.00      0.99       719\n",
      "           1       0.97      0.87      0.92       117\n",
      "\n",
      "    accuracy                           0.98       836\n",
      "   macro avg       0.98      0.93      0.95       836\n",
      "weighted avg       0.98      0.98      0.98       836\n",
      "\n",
      "20 \n",
      "               precision    recall  f1-score   support\n",
      "\n",
      "           0       0.98      1.00      0.99       719\n",
      "           1       0.97      0.90      0.93       117\n",
      "\n",
      "    accuracy                           0.98       836\n",
      "   macro avg       0.98      0.95      0.96       836\n",
      "weighted avg       0.98      0.98      0.98       836\n",
      "\n",
      "50 \n",
      "               precision    recall  f1-score   support\n",
      "\n",
      "           0       0.98      1.00      0.99       719\n",
      "           1       0.97      0.91      0.94       117\n",
      "\n",
      "    accuracy                           0.98       836\n",
      "   macro avg       0.98      0.95      0.96       836\n",
      "weighted avg       0.98      0.98      0.98       836\n",
      "\n",
      "100 \n",
      "               precision    recall  f1-score   support\n",
      "\n",
      "           0       0.99      1.00      0.99       719\n",
      "           1       0.98      0.91      0.95       117\n",
      "\n",
      "    accuracy                           0.99       836\n",
      "   macro avg       0.98      0.96      0.97       836\n",
      "weighted avg       0.99      0.99      0.99       836\n",
      "\n"
     ]
    }
   ],
   "source": [
    "for i in [0.1, 0.5, 1, 10, 20, 50, 100]:\n",
    "    log_reg_model = LogisticRegression(C = i)\n",
    "    log_reg_model.fit(x_train_tf, y_train)\n",
    "    y_pred = log_reg_model.predict(x_val_tf)\n",
    "    print(i, \"\\n\", classification_report(y_val, y_pred, zero_division=1))"
   ]
  },
  {
   "attachments": {},
   "cell_type": "markdown",
   "metadata": {},
   "source": [
    "C = 10 gives the best results"
   ]
  },
  {
   "cell_type": "code",
   "execution_count": 11,
   "metadata": {},
   "outputs": [
    {
     "name": "stdout",
     "output_type": "stream",
     "text": [
      "              precision    recall  f1-score   support\n",
      "\n",
      "           0       0.99      1.00      0.99       719\n",
      "           1       0.98      0.91      0.95       117\n",
      "\n",
      "    accuracy                           0.99       836\n",
      "   macro avg       0.98      0.96      0.97       836\n",
      "weighted avg       0.99      0.99      0.99       836\n",
      "\n"
     ]
    }
   ],
   "source": [
    "log_reg_model = LogisticRegression(C = 10)\n",
    "log_reg_model.fit(x_train_tf, y_train)\n",
    "\n",
    "y_test_pred = log_reg_model.predict(x_test_tf)\n",
    "print(classification_report(y_val, y_pred, zero_division=1))"
   ]
  },
  {
   "attachments": {},
   "cell_type": "markdown",
   "metadata": {},
   "source": [
    "### Model 3: Semi-Supervised Clustering"
   ]
  },
  {
   "attachments": {},
   "cell_type": "markdown",
   "metadata": {},
   "source": [
    "Defining a K-Means clustering model on the training data. Using the elbow method, we will select the best number of clusters. Then, using the labels of the centroid of the clusters, we will classify the datapoints. "
   ]
  },
  {
   "cell_type": "code",
   "execution_count": 12,
   "metadata": {},
   "outputs": [
    {
     "data": {
      "image/png": "[encoded data removed]",
      "text/plain": [
       "<Figure size 640x480 with 1 Axes>"
      ]
     },
     "metadata": {},
     "output_type": "display_data"
    }
   ],
   "source": [
    "clusters_list = []\n",
    "inertia_list = []\n",
    "for i in range(25,41):\n",
    "    cluster_model = KMeans(i).fit(x_train_tf)\n",
    "    clusters_list.append(i)\n",
    "    inertia_list.append(cluster_model.inertia_)\n",
    "\n",
    "plt.plot(clusters_list, inertia_list)\n",
    "plt.show()"
   ]
  },
  {
   "attachments": {},
   "cell_type": "markdown",
   "metadata": {},
   "source": [
    "Taking number of clusters as 37, we will now fit this model and transform the data to cluster data space. Also predict the labels for validation dataset"
   ]
  },
  {
   "cell_type": "code",
   "execution_count": 13,
   "metadata": {},
   "outputs": [
    {
     "name": "stdout",
     "output_type": "stream",
     "text": [
      "              precision    recall  f1-score   support\n",
      "\n",
      "           0       0.86      1.00      0.93       719\n",
      "           1       1.00      0.01      0.02       117\n",
      "\n",
      "    accuracy                           0.86       836\n",
      "   macro avg       0.93      0.50      0.47       836\n",
      "weighted avg       0.88      0.86      0.80       836\n",
      "\n"
     ]
    }
   ],
   "source": [
    "cluster_model = KMeans(37).fit(x_train_tf)\n",
    "x_train_clus = cluster_model.transform(x_train_tf)\n",
    "rep_class_idx = np.argmin(x_train_clus, axis=0)\n",
    "x_rep_class = x_train_tf[rep_class_idx]\n",
    "y_rep_class = np.array(y_train)[rep_class_idx]\n",
    "\n",
    "val_clus_pred = cluster_model.predict(x_val_tf)\n",
    "y_valid_pred = []\n",
    "for i in val_clus_pred:\n",
    "    y_valid_pred.append(y_rep_class[i])\n",
    "\n",
    "print(classification_report(y_val, y_valid_pred, zero_division=1))"
   ]
  },
  {
   "attachments": {},
   "cell_type": "markdown",
   "metadata": {},
   "source": [
    "Predicting for test dataset"
   ]
  },
  {
   "cell_type": "code",
   "execution_count": 14,
   "metadata": {},
   "outputs": [
    {
     "name": "stdout",
     "output_type": "stream",
     "text": [
      "              precision    recall  f1-score   support\n",
      "\n",
      "           0       0.85      1.00      0.92       714\n",
      "           1       1.00      0.00      0.00       123\n",
      "\n",
      "    accuracy                           0.85       837\n",
      "   macro avg       0.93      0.50      0.46       837\n",
      "weighted avg       0.87      0.85      0.79       837\n",
      "\n"
     ]
    }
   ],
   "source": [
    "test_clus_pred = cluster_model.predict(x_test_tf)\n",
    "y_test_pred = []\n",
    "for i in test_clus_pred:\n",
    "    y_test_pred.append(y_rep_class[i])\n",
    "\n",
    "print(classification_report(y_test, y_test_pred, zero_division=1))"
   ]
  },
  {
   "attachments": {},
   "cell_type": "markdown",
   "metadata": {},
   "source": [
    "### Conclusion"
   ]
  },
  {
   "attachments": {},
   "cell_type": "markdown",
   "metadata": {},
   "source": [
    "The Logistic Regression model performed the best among all three and will be selected for further use on this dataset"
   ]
  },
  {
   "attachments": {},
   "cell_type": "markdown",
   "metadata": {},
   "source": [
    "## Assignment 2"
   ]
  },
  {
   "attachments": {},
   "cell_type": "markdown",
   "metadata": {},
   "source": [
    "### Defining bencmarking functions for all models"
   ]
  },
  {
   "attachments": {},
   "cell_type": "markdown",
   "metadata": {},
   "source": [
    "#### Model 1: Multinomial Naive Bayes"
   ]
  },
  {
   "cell_type": "code",
   "execution_count": 15,
   "metadata": {},
   "outputs": [],
   "source": [
    "def mnb_model(x_train_tf, y_train, x_val_tf, y_val, a):\n",
    "    multi_nb_spam_model = MultinomialNB(alpha = a).fit(x_train_tf, y_train)\n",
    "    y_pred = multi_nb_spam_model.predict(x_val_tf)\n",
    "    \n",
    "    acc_score = accuracy_score(y_val, y_pred)\n",
    "    \n",
    "    # Computing Precision and Recall\n",
    "    precision, recall, thresholds = precision_recall_curve(y_val, y_pred)\n",
    "    # Use AUC function to calculate the area under the curve of precision recall curve\n",
    "    aupcr = auc(recall, precision)\n",
    "\n",
    "    conf_mat = confusion_matrix(y_val, y_pred)\n",
    "\n",
    "    return [multi_nb_spam_model, acc_score, aupcr, conf_mat]"
   ]
  },
  {
   "attachments": {},
   "cell_type": "markdown",
   "metadata": {},
   "source": [
    "#### Model 2: Logistic Regression"
   ]
  },
  {
   "cell_type": "code",
   "execution_count": 16,
   "metadata": {},
   "outputs": [],
   "source": [
    "def lr_model(x_train_tf, y_train, x_val_tf, y_val, c_value):\n",
    "    log_reg_model = LogisticRegression(C = c_value, max_iter=10000)\n",
    "    log_reg_model.fit(x_train_tf, y_train)\n",
    "    y_pred = log_reg_model.predict(x_val_tf)\n",
    "    \n",
    "    acc_score = accuracy_score(y_val, y_pred)\n",
    "    \n",
    "    # Computing Precision and Recall\n",
    "    precision, recall, thresholds = precision_recall_curve(y_val, y_pred)\n",
    "    # Use AUC function to calculate the area under the curve of precision recall curve\n",
    "    aupcr = auc(recall, precision)\n",
    "\n",
    "    conf_mat = confusion_matrix(y_val, y_pred)\n",
    "\n",
    "    return [log_reg_model, acc_score, aupcr, conf_mat]"
   ]
  },
  {
   "attachments": {},
   "cell_type": "markdown",
   "metadata": {},
   "source": [
    "#### Model 3: Semi-Supervised Clustering"
   ]
  },
  {
   "cell_type": "code",
   "execution_count": 17,
   "metadata": {},
   "outputs": [],
   "source": [
    "def kmeans_model(x_train_tf, y_train, x_val_tf, y_val, clusters):\n",
    "    cluster_model = KMeans(clusters).fit(x_train_tf)\n",
    "    x_train_clus = cluster_model.transform(x_train_tf)\n",
    "    rep_class_idx = np.argmin(x_train_clus, axis=0)\n",
    "    x_rep_class = x_train_tf[rep_class_idx]\n",
    "    y_rep_class = np.array(y_train)[rep_class_idx]\n",
    "\n",
    "    val_clus_pred = cluster_model.predict(x_val_tf)\n",
    "    y_valid_pred = []\n",
    "    for i in val_clus_pred:\n",
    "        y_valid_pred.append(y_rep_class[i])\n",
    "    \n",
    "    acc_score = accuracy_score(y_val, y_valid_pred)\n",
    "    \n",
    "    # Computing Precision and Recall\n",
    "    precision, recall, thresholds = precision_recall_curve(y_val, y_valid_pred)\n",
    "    # Use AUC function to calculate the area under the curve of precision recall curve\n",
    "    aupcr = auc(recall, precision)\n",
    "\n",
    "    conf_mat = confusion_matrix(y_val, y_valid_pred)\n",
    "\n",
    "    return [cluster_model, acc_score, aupcr, conf_mat]"
   ]
  },
  {
   "attachments": {},
   "cell_type": "markdown",
   "metadata": {},
   "source": [
    "### Running and Tracking Benchmarking experiments with MLFlow"
   ]
  },
  {
   "attachments": {},
   "cell_type": "markdown",
   "metadata": {},
   "source": [
    "Multinomial Niave Bayes"
   ]
  },
  {
   "cell_type": "code",
   "execution_count": 18,
   "metadata": {},
   "outputs": [
    {
     "name": "stderr",
     "output_type": "stream",
     "text": [
      "2023/03/14 01:07:09 WARNING mlflow.utils.autologging_utils: MLflow autologging encountered a warning: \"/home/rohan/anaconda3/envs/env_cmi_all/lib/python3.9/site-packages/_distutils_hack/__init__.py:33: UserWarning: Setuptools is replacing distutils.\"\n",
      "Successfully registered model 'Multinomial Naive Bayes'.\n",
      "2023/03/14 01:07:12 INFO mlflow.tracking._model_registry.client: Waiting up to 300 seconds for model version to finish creation.                     Model name: Multinomial Naive Bayes, version 1\n",
      "Created version '1' of model 'Multinomial Naive Bayes'.\n",
      "Registered model 'Multinomial Naive Bayes' already exists. Creating a new version of this model...\n",
      "2023/03/14 01:07:17 INFO mlflow.tracking._model_registry.client: Waiting up to 300 seconds for model version to finish creation.                     Model name: Multinomial Naive Bayes, version 2\n",
      "Created version '2' of model 'Multinomial Naive Bayes'.\n",
      "Registered model 'Multinomial Naive Bayes' already exists. Creating a new version of this model...\n",
      "2023/03/14 01:07:22 INFO mlflow.tracking._model_registry.client: Waiting up to 300 seconds for model version to finish creation.                     Model name: Multinomial Naive Bayes, version 3\n",
      "Created version '3' of model 'Multinomial Naive Bayes'.\n",
      "Registered model 'Multinomial Naive Bayes' already exists. Creating a new version of this model...\n",
      "2023/03/14 01:07:27 INFO mlflow.tracking._model_registry.client: Waiting up to 300 seconds for model version to finish creation.                     Model name: Multinomial Naive Bayes, version 4\n",
      "Created version '4' of model 'Multinomial Naive Bayes'.\n",
      "Registered model 'Multinomial Naive Bayes' already exists. Creating a new version of this model...\n",
      "2023/03/14 01:07:32 INFO mlflow.tracking._model_registry.client: Waiting up to 300 seconds for model version to finish creation.                     Model name: Multinomial Naive Bayes, version 5\n",
      "Created version '5' of model 'Multinomial Naive Bayes'.\n",
      "Registered model 'Multinomial Naive Bayes' already exists. Creating a new version of this model...\n",
      "2023/03/14 01:07:38 INFO mlflow.tracking._model_registry.client: Waiting up to 300 seconds for model version to finish creation.                     Model name: Multinomial Naive Bayes, version 6\n",
      "Created version '6' of model 'Multinomial Naive Bayes'.\n",
      "Registered model 'Multinomial Naive Bayes' already exists. Creating a new version of this model...\n",
      "2023/03/14 01:07:43 INFO mlflow.tracking._model_registry.client: Waiting up to 300 seconds for model version to finish creation.                     Model name: Multinomial Naive Bayes, version 7\n",
      "Created version '7' of model 'Multinomial Naive Bayes'.\n",
      "Registered model 'Multinomial Naive Bayes' already exists. Creating a new version of this model...\n",
      "2023/03/14 01:07:48 INFO mlflow.tracking._model_registry.client: Waiting up to 300 seconds for model version to finish creation.                     Model name: Multinomial Naive Bayes, version 8\n",
      "Created version '8' of model 'Multinomial Naive Bayes'.\n",
      "Registered model 'Multinomial Naive Bayes' already exists. Creating a new version of this model...\n",
      "2023/03/14 01:07:53 INFO mlflow.tracking._model_registry.client: Waiting up to 300 seconds for model version to finish creation.                     Model name: Multinomial Naive Bayes, version 9\n",
      "Created version '9' of model 'Multinomial Naive Bayes'.\n"
     ]
    }
   ],
   "source": [
    "mlflow.sklearn.autolog()\n",
    "\n",
    "md_name = \"Multinomial Naive Bayes\" \n",
    "\n",
    "for i in np.arange(0.05, 2.25, 0.25):\n",
    "    with mlflow.start_run(run_name = f\"Model : {md_name}, Alpha : {i}\"):\n",
    "        \n",
    "        #Log parameters\n",
    "        mlflow.log_param(\"Alpha\",i)\n",
    "\n",
    "        #Running the model\n",
    "        model_metrics = mnb_model(x_train_tf, y_train, x_val_tf, y_val, i)\n",
    "\n",
    "        #Logging metrics\n",
    "        mlflow.log_metric(\"Accuracy\", model_metrics[1])\n",
    "        mlflow.log_metric(\"AUPCR\", model_metrics[2])\n",
    "\n",
    "        #Logging JSON of confusion matrix\n",
    "        mlflow.log_dict(np.array(model_metrics[3]).tolist(), \"confusion_matrix.json\")\n",
    "        mlflow.sklearn.log_model(model_metrics[0], \"model\")\n",
    "\n",
    "        tracking_url_type_store = urlparse(mlflow.get_tracking_uri()).scheme\n",
    "        mlflow.sklearn.log_model(\n",
    "            sk_model = model_metrics[0],\n",
    "            artifact_path=\"sklearn-model\",\n",
    "            registered_model_name=\"Multinomial Naive Bayes\"\n",
    "        )\n",
    "        if tracking_url_type_store != \"file\":\n",
    "            mlflow.sklearn.log_model(model_metrics[0], \"model\", registered_model_name=\"Multinomial Naive Bayes\")\n",
    "        else:\n",
    "          mlflow.sklearn.log_model(model_metrics[0], \"model\")"
   ]
  },
  {
   "attachments": {},
   "cell_type": "markdown",
   "metadata": {},
   "source": [
    "Logistic Regression"
   ]
  },
  {
   "cell_type": "code",
   "execution_count": 19,
   "metadata": {},
   "outputs": [
    {
     "name": "stderr",
     "output_type": "stream",
     "text": [
      "Successfully registered model 'Logistic Regression'.\n",
      "2023/03/14 01:07:58 INFO mlflow.tracking._model_registry.client: Waiting up to 300 seconds for model version to finish creation.                     Model name: Logistic Regression, version 1\n",
      "Created version '1' of model 'Logistic Regression'.\n",
      "Registered model 'Logistic Regression' already exists. Creating a new version of this model...\n",
      "2023/03/14 01:08:04 INFO mlflow.tracking._model_registry.client: Waiting up to 300 seconds for model version to finish creation.                     Model name: Logistic Regression, version 2\n",
      "Created version '2' of model 'Logistic Regression'.\n",
      "Registered model 'Logistic Regression' already exists. Creating a new version of this model...\n",
      "2023/03/14 01:08:09 INFO mlflow.tracking._model_registry.client: Waiting up to 300 seconds for model version to finish creation.                     Model name: Logistic Regression, version 3\n",
      "Created version '3' of model 'Logistic Regression'.\n",
      "Registered model 'Logistic Regression' already exists. Creating a new version of this model...\n",
      "2023/03/14 01:08:13 INFO mlflow.tracking._model_registry.client: Waiting up to 300 seconds for model version to finish creation.                     Model name: Logistic Regression, version 4\n",
      "Created version '4' of model 'Logistic Regression'.\n",
      "Registered model 'Logistic Regression' already exists. Creating a new version of this model...\n",
      "2023/03/14 01:08:18 INFO mlflow.tracking._model_registry.client: Waiting up to 300 seconds for model version to finish creation.                     Model name: Logistic Regression, version 5\n",
      "Created version '5' of model 'Logistic Regression'.\n",
      "Registered model 'Logistic Regression' already exists. Creating a new version of this model...\n",
      "2023/03/14 01:08:23 INFO mlflow.tracking._model_registry.client: Waiting up to 300 seconds for model version to finish creation.                     Model name: Logistic Regression, version 6\n",
      "Created version '6' of model 'Logistic Regression'.\n",
      "Registered model 'Logistic Regression' already exists. Creating a new version of this model...\n",
      "2023/03/14 01:08:28 INFO mlflow.tracking._model_registry.client: Waiting up to 300 seconds for model version to finish creation.                     Model name: Logistic Regression, version 7\n",
      "Created version '7' of model 'Logistic Regression'.\n"
     ]
    }
   ],
   "source": [
    "mlflow.sklearn.autolog()\n",
    "\n",
    "md_name = \"Logistic Regression\"\n",
    "\n",
    "for i in [0.1, 0.5, 1, 10, 20, 50, 100]:\n",
    "    with mlflow.start_run(run_name = f\"Model : {md_name}, C : {i}\"):\n",
    "        \n",
    "        #Log parameters\n",
    "        mlflow.log_param(\"C\",i)\n",
    "\n",
    "        #Running the model\n",
    "        model_metrics = lr_model(x_train_tf, y_train, x_val_tf, y_val, i)\n",
    "\n",
    "        #Logging metrics\n",
    "        mlflow.log_metric(\"Accuracy\", model_metrics[1])\n",
    "        mlflow.log_metric(\"AUPCR\", model_metrics[2])\n",
    "\n",
    "        #Logging JSON of confusion matrix\n",
    "        mlflow.log_dict(np.array(model_metrics[3]).tolist(), \"confusion_matrix.json\")\n",
    "        mlflow.sklearn.log_model(model_metrics[0], \"model\")\n",
    "\n",
    "        tracking_url_type_store = urlparse(mlflow.get_tracking_uri()).scheme\n",
    "        mlflow.sklearn.log_model(\n",
    "            sk_model = model_metrics[0],\n",
    "            artifact_path=\"sklearn-model\",\n",
    "            registered_model_name=\"Logistic Regression\"\n",
    "        )\n",
    "        if tracking_url_type_store != \"file\":\n",
    "            mlflow.sklearn.log_model(model_metrics[0], \"model\", registered_model_name = \"Logistic Regression\")\n",
    "        else:\n",
    "          mlflow.sklearn.log_model(model_metrics[0], \"model\")"
   ]
  },
  {
   "attachments": {},
   "cell_type": "markdown",
   "metadata": {},
   "source": [
    "Semi-Supervised Clustering"
   ]
  },
  {
   "cell_type": "code",
   "execution_count": 20,
   "metadata": {},
   "outputs": [
    {
     "name": "stderr",
     "output_type": "stream",
     "text": [
      "2023/03/14 01:08:30 WARNING mlflow.sklearn: Training metrics will not be recorded because training labels were not specified. To automatically record training metrics, provide training labels as inputs to the model training function.\n",
      "Successfully registered model 'Semi-Supervised Clustering'.\n",
      "2023/03/14 01:08:34 INFO mlflow.tracking._model_registry.client: Waiting up to 300 seconds for model version to finish creation.                     Model name: Semi-Supervised Clustering, version 1\n",
      "Created version '1' of model 'Semi-Supervised Clustering'.\n",
      "2023/03/14 01:08:37 WARNING mlflow.sklearn: Training metrics will not be recorded because training labels were not specified. To automatically record training metrics, provide training labels as inputs to the model training function.\n",
      "Registered model 'Semi-Supervised Clustering' already exists. Creating a new version of this model...\n",
      "2023/03/14 01:08:40 INFO mlflow.tracking._model_registry.client: Waiting up to 300 seconds for model version to finish creation.                     Model name: Semi-Supervised Clustering, version 2\n",
      "Created version '2' of model 'Semi-Supervised Clustering'.\n",
      "2023/03/14 01:08:43 WARNING mlflow.sklearn: Training metrics will not be recorded because training labels were not specified. To automatically record training metrics, provide training labels as inputs to the model training function.\n",
      "Registered model 'Semi-Supervised Clustering' already exists. Creating a new version of this model...\n",
      "2023/03/14 01:08:46 INFO mlflow.tracking._model_registry.client: Waiting up to 300 seconds for model version to finish creation.                     Model name: Semi-Supervised Clustering, version 3\n",
      "Created version '3' of model 'Semi-Supervised Clustering'.\n",
      "2023/03/14 01:08:48 WARNING mlflow.sklearn: Training metrics will not be recorded because training labels were not specified. To automatically record training metrics, provide training labels as inputs to the model training function.\n",
      "Registered model 'Semi-Supervised Clustering' already exists. Creating a new version of this model...\n",
      "2023/03/14 01:08:52 INFO mlflow.tracking._model_registry.client: Waiting up to 300 seconds for model version to finish creation.                     Model name: Semi-Supervised Clustering, version 4\n",
      "Created version '4' of model 'Semi-Supervised Clustering'.\n",
      "2023/03/14 01:08:54 WARNING mlflow.sklearn: Training metrics will not be recorded because training labels were not specified. To automatically record training metrics, provide training labels as inputs to the model training function.\n",
      "Registered model 'Semi-Supervised Clustering' already exists. Creating a new version of this model...\n",
      "2023/03/14 01:08:58 INFO mlflow.tracking._model_registry.client: Waiting up to 300 seconds for model version to finish creation.                     Model name: Semi-Supervised Clustering, version 5\n",
      "Created version '5' of model 'Semi-Supervised Clustering'.\n",
      "2023/03/14 01:09:00 WARNING mlflow.sklearn: Training metrics will not be recorded because training labels were not specified. To automatically record training metrics, provide training labels as inputs to the model training function.\n",
      "Registered model 'Semi-Supervised Clustering' already exists. Creating a new version of this model...\n",
      "2023/03/14 01:09:04 INFO mlflow.tracking._model_registry.client: Waiting up to 300 seconds for model version to finish creation.                     Model name: Semi-Supervised Clustering, version 6\n",
      "Created version '6' of model 'Semi-Supervised Clustering'.\n",
      "2023/03/14 01:09:06 WARNING mlflow.sklearn: Training metrics will not be recorded because training labels were not specified. To automatically record training metrics, provide training labels as inputs to the model training function.\n",
      "Registered model 'Semi-Supervised Clustering' already exists. Creating a new version of this model...\n",
      "2023/03/14 01:09:10 INFO mlflow.tracking._model_registry.client: Waiting up to 300 seconds for model version to finish creation.                     Model name: Semi-Supervised Clustering, version 7\n",
      "Created version '7' of model 'Semi-Supervised Clustering'.\n",
      "2023/03/14 01:09:12 WARNING mlflow.sklearn: Training metrics will not be recorded because training labels were not specified. To automatically record training metrics, provide training labels as inputs to the model training function.\n",
      "Registered model 'Semi-Supervised Clustering' already exists. Creating a new version of this model...\n",
      "2023/03/14 01:09:16 INFO mlflow.tracking._model_registry.client: Waiting up to 300 seconds for model version to finish creation.                     Model name: Semi-Supervised Clustering, version 8\n",
      "Created version '8' of model 'Semi-Supervised Clustering'.\n",
      "2023/03/14 01:09:18 WARNING mlflow.sklearn: Training metrics will not be recorded because training labels were not specified. To automatically record training metrics, provide training labels as inputs to the model training function.\n",
      "Registered model 'Semi-Supervised Clustering' already exists. Creating a new version of this model...\n",
      "2023/03/14 01:09:22 INFO mlflow.tracking._model_registry.client: Waiting up to 300 seconds for model version to finish creation.                     Model name: Semi-Supervised Clustering, version 9\n",
      "Created version '9' of model 'Semi-Supervised Clustering'.\n",
      "2023/03/14 01:09:24 WARNING mlflow.sklearn: Training metrics will not be recorded because training labels were not specified. To automatically record training metrics, provide training labels as inputs to the model training function.\n",
      "Registered model 'Semi-Supervised Clustering' already exists. Creating a new version of this model...\n",
      "2023/03/14 01:09:28 INFO mlflow.tracking._model_registry.client: Waiting up to 300 seconds for model version to finish creation.                     Model name: Semi-Supervised Clustering, version 10\n",
      "Created version '10' of model 'Semi-Supervised Clustering'.\n",
      "2023/03/14 01:09:30 WARNING mlflow.sklearn: Training metrics will not be recorded because training labels were not specified. To automatically record training metrics, provide training labels as inputs to the model training function.\n",
      "Registered model 'Semi-Supervised Clustering' already exists. Creating a new version of this model...\n",
      "2023/03/14 01:09:34 INFO mlflow.tracking._model_registry.client: Waiting up to 300 seconds for model version to finish creation.                     Model name: Semi-Supervised Clustering, version 11\n",
      "Created version '11' of model 'Semi-Supervised Clustering'.\n",
      "2023/03/14 01:09:36 WARNING mlflow.sklearn: Training metrics will not be recorded because training labels were not specified. To automatically record training metrics, provide training labels as inputs to the model training function.\n",
      "Registered model 'Semi-Supervised Clustering' already exists. Creating a new version of this model...\n",
      "2023/03/14 01:09:40 INFO mlflow.tracking._model_registry.client: Waiting up to 300 seconds for model version to finish creation.                     Model name: Semi-Supervised Clustering, version 12\n",
      "Created version '12' of model 'Semi-Supervised Clustering'.\n",
      "2023/03/14 01:09:42 WARNING mlflow.sklearn: Training metrics will not be recorded because training labels were not specified. To automatically record training metrics, provide training labels as inputs to the model training function.\n",
      "Registered model 'Semi-Supervised Clustering' already exists. Creating a new version of this model...\n",
      "2023/03/14 01:09:46 INFO mlflow.tracking._model_registry.client: Waiting up to 300 seconds for model version to finish creation.                     Model name: Semi-Supervised Clustering, version 13\n",
      "Created version '13' of model 'Semi-Supervised Clustering'.\n",
      "2023/03/14 01:09:48 WARNING mlflow.sklearn: Training metrics will not be recorded because training labels were not specified. To automatically record training metrics, provide training labels as inputs to the model training function.\n",
      "Registered model 'Semi-Supervised Clustering' already exists. Creating a new version of this model...\n",
      "2023/03/14 01:09:52 INFO mlflow.tracking._model_registry.client: Waiting up to 300 seconds for model version to finish creation.                     Model name: Semi-Supervised Clustering, version 14\n",
      "Created version '14' of model 'Semi-Supervised Clustering'.\n",
      "2023/03/14 01:09:55 WARNING mlflow.sklearn: Training metrics will not be recorded because training labels were not specified. To automatically record training metrics, provide training labels as inputs to the model training function.\n",
      "Registered model 'Semi-Supervised Clustering' already exists. Creating a new version of this model...\n",
      "2023/03/14 01:09:58 INFO mlflow.tracking._model_registry.client: Waiting up to 300 seconds for model version to finish creation.                     Model name: Semi-Supervised Clustering, version 15\n",
      "Created version '15' of model 'Semi-Supervised Clustering'.\n",
      "2023/03/14 01:10:01 WARNING mlflow.sklearn: Training metrics will not be recorded because training labels were not specified. To automatically record training metrics, provide training labels as inputs to the model training function.\n",
      "Registered model 'Semi-Supervised Clustering' already exists. Creating a new version of this model...\n",
      "2023/03/14 01:10:05 INFO mlflow.tracking._model_registry.client: Waiting up to 300 seconds for model version to finish creation.                     Model name: Semi-Supervised Clustering, version 16\n",
      "Created version '16' of model 'Semi-Supervised Clustering'.\n"
     ]
    }
   ],
   "source": [
    "mlflow.sklearn.autolog()\n",
    "\n",
    "md_name = \"Semi-Supervised Clustering\"\n",
    "\n",
    "for i in range(25,41):\n",
    "    with mlflow.start_run(run_name = f\"Model : {md_name}, C : {i}\"):\n",
    "        \n",
    "        #Log parameters\n",
    "        mlflow.log_param(\"C\",i)\n",
    "\n",
    "        #Running the model\n",
    "        model_metrics = kmeans_model(x_train_tf, y_train, x_val_tf, y_val, i)\n",
    "\n",
    "        #Logging metrics\n",
    "        mlflow.log_metric(\"Accuracy\", model_metrics[1])\n",
    "        mlflow.log_metric(\"AUPCR\", model_metrics[2])\n",
    "\n",
    "        #Logging JSON of confusion matrix\n",
    "        mlflow.log_dict(np.array(model_metrics[3]).tolist(), \"confusion_matrix.json\")\n",
    "        mlflow.sklearn.log_model(model_metrics[0], \"model\")\n",
    "\n",
    "        tracking_url_type_store = urlparse(mlflow.get_tracking_uri()).scheme\n",
    "        mlflow.sklearn.log_model(\n",
    "            sk_model = model_metrics[0],\n",
    "            artifact_path=\"sklearn-model\",\n",
    "            registered_model_name=\"Semi-Supervised Clustering\"\n",
    "        )\n",
    "        if tracking_url_type_store != \"file\":\n",
    "            mlflow.sklearn.log_model(model_metrics[0], \"model\", registered_model_name = \"Semi-Supervised Clustering\")\n",
    "        else:\n",
    "          mlflow.sklearn.log_model(model_metrics[0], \"model\")"
   ]
  }
 ],
 "metadata": {
  "kernelspec": {
   "display_name": "env_cmi_all",
   "language": "python",
   "name": "python3"
  },
  "language_info": {
   "codemirror_mode": {
    "name": "ipython",
    "version": 3
   },
   "file_extension": ".py",
   "mimetype": "text/x-python",
   "name": "python",
   "nbconvert_exporter": "python",
   "pygments_lexer": "ipython3",
   "version": "3.9.16"
  },
  "orig_nbformat": 4,
  "vscode": {
   "interpreter": {
    "hash": "fb51b6b13e8232a64b369b5696b9d41218df7738edf9356f9fbcee5c06010241"
   }
  }
 },
 "nbformat": 4,
 "nbformat_minor": 2
}
